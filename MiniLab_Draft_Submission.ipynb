{
 "cells": [
  {
   "cell_type": "markdown",
   "metadata": {},
   "source": [
    "# Datamining 7331 Minilab: Analysis of Airbnb data using Logistic Regression and SVM\n",
    "\n",
    "By: William Arnost, Stephen Johnson, Sean Kennedy, Tazeb Abera\n",
    "\n",
    "## Introduction\n",
    "\n",
    "In this notebook we will be predicting the room type feature from the Airbnb data set using Logistic Regression and Support Vector Machines. Room type can take 3 values: 'Private room', 'Entire home/apt', and 'Shared room'. Room type by itself might not be a useful thing to predict, but we are hoping this can teach us something about our data for a future price prediction exercise. We will compare accuracy between the two algorithms, as well as look at hyperparameter tuning for each one. Then we discuss which model was more useful and look at the interpretation of the features. \n",
    "\n",
    "---\n",
    "## Contents\n",
    "\n",
    "* <a href=\"#DataPreperation\">Data Preperation</a>\n",
    "* <a href=\"#CreateModels\">Create Models</a>\n",
    "* <a href=\"#ModelAdvantages\">Model Advantages</a>\n",
    "* <a href=\"#InterpretFeatureImportance\">Interpret Feature Importance</a>\n",
    "* <a href=\"#InterpretSupportVectors\">Interpret Support Vectors</a>\n",
    "* <a href=\"#Conclusion\">Conclusion</a>\n",
    "\n",
    "\n",
    "\n",
    "---\n",
    "<a id=\"Loading\"></a>\n",
    "<a href=\"#top\">Back to Top</a>"
   ]
  },
  {
   "cell_type": "markdown",
   "metadata": {},
   "source": [
    "<a id=\"DataPreperation\"></a>\n",
    "# Data Preperation"
   ]
  },
  {
   "cell_type": "markdown",
   "metadata": {},
   "source": [
    "This section is where we load and prepare our data. This was not part of the grading rubric so we do not present any modeling or analysis here."
   ]
  },
  {
   "cell_type": "markdown",
   "metadata": {},
   "source": [
    "### Package Loading"
   ]
  },
  {
   "cell_type": "code",
   "execution_count": 1,
   "metadata": {},
   "outputs": [],
   "source": [
    "import pandas as pd\n",
    "import numpy as np\n",
    "import matplotlib.pyplot as plt\n",
    "import datetime as dt\n",
    "import seaborn as sns\n",
    "#sns.set(style=\"ticks\", color_codes=True)\n",
    "# sklearn stuff\n",
    "from sklearn.naive_bayes import GaussianNB\n",
    "from sklearn.linear_model import LogisticRegression, LinearRegression, SGDClassifier\n",
    "from sklearn.ensemble import RandomForestClassifier\n",
    "from sklearn.model_selection import train_test_split, GridSearchCV\n",
    "from sklearn.preprocessing import StandardScaler, OneHotEncoder\n",
    "from sklearn.metrics import accuracy_score, confusion_matrix, roc_curve, roc_auc_score\n",
    "from sklearn.decomposition import PCA\n",
    "from sklearn.pipeline import Pipeline\n",
    "\n",
    "#yellobrick stuff\n",
    "from yellowbrick.classifier import ConfusionMatrix, DiscriminationThreshold, PrecisionRecallCurve, ClassificationReport, ClassPredictionError, ROCAUC\n",
    "from yellowbrick.target import ClassBalance\n",
    "import warnings\n",
    "warnings.simplefilter(action='ignore', category=FutureWarning)"
   ]
  },
  {
   "cell_type": "markdown",
   "metadata": {},
   "source": [
    "### Define Functions for model analysis"
   ]
  },
  {
   "cell_type": "code",
   "execution_count": 48,
   "metadata": {},
   "outputs": [],
   "source": [
    "def analyze_classifier(model,\n",
    "                       X_train,\n",
    "                       X_test,\n",
    "                       y_train,\n",
    "                       y_test,\n",
    "                       response='Response',\n",
    "                       classes=[0, 1]):\n",
    "    matrix = ConfusionMatrix(model, classes=classes)\n",
    "    matrix.fit(X_train, y_train[response])\n",
    "    matrix.score(X_test, y_test[response])\n",
    "    matrix.show()\n",
    "    class_report = ClassificationReport(model, classes=classes, support=True)\n",
    "    class_report.fit(X_train, y_train[response])\n",
    "    class_report.score(X_test, y_test[response])\n",
    "    class_report.show()\n",
    "    roc_auc = ROCAUC(model, classes=classes)\n",
    "    roc_auc.fit(X_train, y_train[response])\n",
    "    roc_auc.score(X_test, y_test[response])\n",
    "    roc_auc.show()\n",
    "    recall = PrecisionRecallCurve(model)\n",
    "    recall.fit(X_train, y_train)\n",
    "    recall.score(X_test, y_test)\n",
    "    recall.show()\n",
    "    if len(classes) == 2:\n",
    "        disc_thresh = DiscriminationThreshold(model)\n",
    "        disc_thresh.fit(X_train, y_train.values.ravel())\n",
    "        disc_thresh.show()\n",
    "        return disc_thresh.thresholds_, disc_thresh.cv_scores_\n",
    "    else:\n",
    "        return None, None\n",
    "\n",
    "\n",
    "def sklearn_vif(exogs, data):\n",
    "\n",
    "    # initialize dictionaries\n",
    "    vif_dict, tolerance_dict = {}, {}\n",
    "\n",
    "    # form input data for each exogenous variable\n",
    "    for exog in exogs:\n",
    "        #print(exog)\n",
    "        not_exog = [i for i in exogs if i != exog]\n",
    "        #print(not_exog)\n",
    "        X, y = data[not_exog], data[exog]\n",
    "\n",
    "        # extract r-squared from the fit\n",
    "        r_squared = LinearRegression().fit(X, y).score(X, y)\n",
    "\n",
    "        # calculate VIF\n",
    "        vif = 1 / (1 - r_squared)\n",
    "        vif_dict[exog] = vif\n",
    "\n",
    "        # calculate tolerance\n",
    "        tolerance = 1 - r_squared\n",
    "        tolerance_dict[exog] = tolerance\n",
    "\n",
    "    # return VIF DataFrame\n",
    "    df_vif = pd.DataFrame({'VIF': vif_dict, 'Tolerance': tolerance_dict})\n",
    "\n",
    "    return df_vif\n",
    "\n",
    "\n",
    "def compute_new_conf_matrix(predictions, probabilities, cutoff, y_test):\n",
    "    #create a df of predictions and probabilities\n",
    "    predictions = pd.DataFrame(list(predictions), columns=['Predict'])\n",
    "    predicted_probs = pd.concat([\n",
    "        pd.DataFrame(list(probabilities), columns=['ProbFalse', 'ProbTrue']),\n",
    "        predictions\n",
    "    ],\n",
    "                                axis=1)\n",
    "    #make array of values where val > cutoff\n",
    "    predicted_probs['NewPredict'] = predicted_probs['ProbTrue'].apply(\n",
    "        lambda x: 1 if x >= cutoff else 0)\n",
    "    matrix = pd.DataFrame(confusion_matrix(y_test, predicted_probs.NewPredict))\n",
    "    matrix.rename(columns={\n",
    "        0: 'No_Predicted',\n",
    "        1: 'Yes_Predicted'\n",
    "    },\n",
    "                  index={\n",
    "                      0: 'No_True',\n",
    "                      1: 'Yes_True'\n",
    "                  },\n",
    "                  inplace=True)\n",
    "    return round(accuracy_score(y_test, predicted_probs.NewPredict),\n",
    "                 5), matrix, predicted_probs"
   ]
  },
  {
   "cell_type": "markdown",
   "metadata": {},
   "source": [
    "### Read in the data"
   ]
  },
  {
   "cell_type": "code",
   "execution_count": 3,
   "metadata": {},
   "outputs": [
    {
     "name": "stdout",
     "output_type": "stream",
     "text": [
      "{'id': 48895, 'name': 47897, 'host_id': 37457, 'host_name': 11453, 'neighbourhood_group': 5, 'neighbourhood': 221, 'latitude': 19048, 'longitude': 14718, 'room_type': 3, 'price': 674, 'minimum_nights': 109, 'number_of_reviews': 394, 'last_review': 1765, 'reviews_per_month': 938, 'calculated_host_listings_count': 47, 'availability_365': 366, 'ZIP': 199, 'dist_subway': 46157, 'cnt_all': 133, 'cnt_entire_home': 95, 'cnt_private_room': 74, 'cnt_shared_room': 14, 'avgprice_all': 1912, 'avgprice_entire_home': 1409, 'avgprice_private_room': 1309, 'avgprice_shared_room': 219}\n"
     ]
    },
    {
     "data": {
      "text/html": [
       "<div>\n",
       "<style scoped>\n",
       "    .dataframe tbody tr th:only-of-type {\n",
       "        vertical-align: middle;\n",
       "    }\n",
       "\n",
       "    .dataframe tbody tr th {\n",
       "        vertical-align: top;\n",
       "    }\n",
       "\n",
       "    .dataframe thead th {\n",
       "        text-align: right;\n",
       "    }\n",
       "</style>\n",
       "<table border=\"1\" class=\"dataframe\">\n",
       "  <thead>\n",
       "    <tr style=\"text-align: right;\">\n",
       "      <th></th>\n",
       "      <th>id</th>\n",
       "      <th>host_id</th>\n",
       "      <th>latitude</th>\n",
       "      <th>longitude</th>\n",
       "      <th>price</th>\n",
       "      <th>minimum_nights</th>\n",
       "      <th>number_of_reviews</th>\n",
       "      <th>reviews_per_month</th>\n",
       "      <th>calculated_host_listings_count</th>\n",
       "      <th>availability_365</th>\n",
       "      <th>ZIP</th>\n",
       "      <th>dist_subway</th>\n",
       "      <th>cnt_all</th>\n",
       "      <th>cnt_entire_home</th>\n",
       "      <th>cnt_private_room</th>\n",
       "      <th>cnt_shared_room</th>\n",
       "      <th>avgprice_all</th>\n",
       "      <th>avgprice_entire_home</th>\n",
       "      <th>avgprice_private_room</th>\n",
       "      <th>avgprice_shared_room</th>\n",
       "    </tr>\n",
       "  </thead>\n",
       "  <tbody>\n",
       "    <tr>\n",
       "      <th>count</th>\n",
       "      <td>4.889500e+04</td>\n",
       "      <td>4.889500e+04</td>\n",
       "      <td>48895.000000</td>\n",
       "      <td>48895.000000</td>\n",
       "      <td>48895.000000</td>\n",
       "      <td>48895.000000</td>\n",
       "      <td>48895.000000</td>\n",
       "      <td>38843.000000</td>\n",
       "      <td>48895.000000</td>\n",
       "      <td>48895.000000</td>\n",
       "      <td>48871.000000</td>\n",
       "      <td>48895.000000</td>\n",
       "      <td>48895.000000</td>\n",
       "      <td>48895.000000</td>\n",
       "      <td>48895.000000</td>\n",
       "      <td>48895.000000</td>\n",
       "      <td>48895.000000</td>\n",
       "      <td>48895.000000</td>\n",
       "      <td>48895.000000</td>\n",
       "      <td>48895.000000</td>\n",
       "    </tr>\n",
       "    <tr>\n",
       "      <th>mean</th>\n",
       "      <td>1.901714e+07</td>\n",
       "      <td>6.762001e+07</td>\n",
       "      <td>40.728949</td>\n",
       "      <td>-73.952170</td>\n",
       "      <td>152.720687</td>\n",
       "      <td>7.029962</td>\n",
       "      <td>23.274466</td>\n",
       "      <td>1.373221</td>\n",
       "      <td>7.143982</td>\n",
       "      <td>112.781327</td>\n",
       "      <td>10675.111211</td>\n",
       "      <td>0.245997</td>\n",
       "      <td>52.815768</td>\n",
       "      <td>29.719726</td>\n",
       "      <td>22.013396</td>\n",
       "      <td>1.082646</td>\n",
       "      <td>152.703409</td>\n",
       "      <td>191.493067</td>\n",
       "      <td>98.024409</td>\n",
       "      <td>40.581520</td>\n",
       "    </tr>\n",
       "    <tr>\n",
       "      <th>std</th>\n",
       "      <td>1.098311e+07</td>\n",
       "      <td>7.861097e+07</td>\n",
       "      <td>0.054530</td>\n",
       "      <td>0.046157</td>\n",
       "      <td>240.154170</td>\n",
       "      <td>20.510550</td>\n",
       "      <td>44.550582</td>\n",
       "      <td>1.680442</td>\n",
       "      <td>32.952519</td>\n",
       "      <td>131.622289</td>\n",
       "      <td>599.591915</td>\n",
       "      <td>0.346640</td>\n",
       "      <td>43.303548</td>\n",
       "      <td>29.254144</td>\n",
       "      <td>18.668278</td>\n",
       "      <td>2.615105</td>\n",
       "      <td>90.678742</td>\n",
       "      <td>114.468382</td>\n",
       "      <td>73.981026</td>\n",
       "      <td>93.479089</td>\n",
       "    </tr>\n",
       "    <tr>\n",
       "      <th>min</th>\n",
       "      <td>2.539000e+03</td>\n",
       "      <td>2.438000e+03</td>\n",
       "      <td>40.499790</td>\n",
       "      <td>-74.244420</td>\n",
       "      <td>0.000000</td>\n",
       "      <td>1.000000</td>\n",
       "      <td>0.000000</td>\n",
       "      <td>0.010000</td>\n",
       "      <td>1.000000</td>\n",
       "      <td>0.000000</td>\n",
       "      <td>10001.000000</td>\n",
       "      <td>0.000553</td>\n",
       "      <td>0.000000</td>\n",
       "      <td>0.000000</td>\n",
       "      <td>0.000000</td>\n",
       "      <td>0.000000</td>\n",
       "      <td>0.000000</td>\n",
       "      <td>0.000000</td>\n",
       "      <td>0.000000</td>\n",
       "      <td>0.000000</td>\n",
       "    </tr>\n",
       "    <tr>\n",
       "      <th>25%</th>\n",
       "      <td>9.471945e+06</td>\n",
       "      <td>7.822033e+06</td>\n",
       "      <td>40.690100</td>\n",
       "      <td>-73.983070</td>\n",
       "      <td>69.000000</td>\n",
       "      <td>1.000000</td>\n",
       "      <td>1.000000</td>\n",
       "      <td>0.190000</td>\n",
       "      <td>1.000000</td>\n",
       "      <td>0.000000</td>\n",
       "      <td>10024.000000</td>\n",
       "      <td>0.103457</td>\n",
       "      <td>20.000000</td>\n",
       "      <td>8.000000</td>\n",
       "      <td>7.000000</td>\n",
       "      <td>0.000000</td>\n",
       "      <td>94.812500</td>\n",
       "      <td>137.250000</td>\n",
       "      <td>64.500000</td>\n",
       "      <td>0.000000</td>\n",
       "    </tr>\n",
       "    <tr>\n",
       "      <th>50%</th>\n",
       "      <td>1.967728e+07</td>\n",
       "      <td>3.079382e+07</td>\n",
       "      <td>40.723070</td>\n",
       "      <td>-73.955680</td>\n",
       "      <td>106.000000</td>\n",
       "      <td>3.000000</td>\n",
       "      <td>5.000000</td>\n",
       "      <td>0.720000</td>\n",
       "      <td>1.000000</td>\n",
       "      <td>45.000000</td>\n",
       "      <td>11104.000000</td>\n",
       "      <td>0.173022</td>\n",
       "      <td>43.000000</td>\n",
       "      <td>20.000000</td>\n",
       "      <td>17.000000</td>\n",
       "      <td>0.000000</td>\n",
       "      <td>135.208333</td>\n",
       "      <td>180.850000</td>\n",
       "      <td>83.666667</td>\n",
       "      <td>0.000000</td>\n",
       "    </tr>\n",
       "    <tr>\n",
       "      <th>75%</th>\n",
       "      <td>2.915218e+07</td>\n",
       "      <td>1.074344e+08</td>\n",
       "      <td>40.763115</td>\n",
       "      <td>-73.936275</td>\n",
       "      <td>175.000000</td>\n",
       "      <td>5.000000</td>\n",
       "      <td>24.000000</td>\n",
       "      <td>2.020000</td>\n",
       "      <td>2.000000</td>\n",
       "      <td>227.000000</td>\n",
       "      <td>11221.000000</td>\n",
       "      <td>0.269066</td>\n",
       "      <td>73.000000</td>\n",
       "      <td>42.000000</td>\n",
       "      <td>33.000000</td>\n",
       "      <td>1.000000</td>\n",
       "      <td>189.000000</td>\n",
       "      <td>231.264463</td>\n",
       "      <td>111.500000</td>\n",
       "      <td>60.000000</td>\n",
       "    </tr>\n",
       "    <tr>\n",
       "      <th>max</th>\n",
       "      <td>3.648724e+07</td>\n",
       "      <td>2.743213e+08</td>\n",
       "      <td>40.913060</td>\n",
       "      <td>-73.712990</td>\n",
       "      <td>10000.000000</td>\n",
       "      <td>1250.000000</td>\n",
       "      <td>629.000000</td>\n",
       "      <td>58.500000</td>\n",
       "      <td>327.000000</td>\n",
       "      <td>365.000000</td>\n",
       "      <td>11697.000000</td>\n",
       "      <td>4.931115</td>\n",
       "      <td>230.000000</td>\n",
       "      <td>142.000000</td>\n",
       "      <td>91.000000</td>\n",
       "      <td>26.000000</td>\n",
       "      <td>5000.000000</td>\n",
       "      <td>5000.000000</td>\n",
       "      <td>3000.000000</td>\n",
       "      <td>1800.000000</td>\n",
       "    </tr>\n",
       "  </tbody>\n",
       "</table>\n",
       "</div>"
      ],
      "text/plain": [
       "                 id       host_id      latitude     longitude         price  \\\n",
       "count  4.889500e+04  4.889500e+04  48895.000000  48895.000000  48895.000000   \n",
       "mean   1.901714e+07  6.762001e+07     40.728949    -73.952170    152.720687   \n",
       "std    1.098311e+07  7.861097e+07      0.054530      0.046157    240.154170   \n",
       "min    2.539000e+03  2.438000e+03     40.499790    -74.244420      0.000000   \n",
       "25%    9.471945e+06  7.822033e+06     40.690100    -73.983070     69.000000   \n",
       "50%    1.967728e+07  3.079382e+07     40.723070    -73.955680    106.000000   \n",
       "75%    2.915218e+07  1.074344e+08     40.763115    -73.936275    175.000000   \n",
       "max    3.648724e+07  2.743213e+08     40.913060    -73.712990  10000.000000   \n",
       "\n",
       "       minimum_nights  number_of_reviews  reviews_per_month  \\\n",
       "count    48895.000000       48895.000000       38843.000000   \n",
       "mean         7.029962          23.274466           1.373221   \n",
       "std         20.510550          44.550582           1.680442   \n",
       "min          1.000000           0.000000           0.010000   \n",
       "25%          1.000000           1.000000           0.190000   \n",
       "50%          3.000000           5.000000           0.720000   \n",
       "75%          5.000000          24.000000           2.020000   \n",
       "max       1250.000000         629.000000          58.500000   \n",
       "\n",
       "       calculated_host_listings_count  availability_365           ZIP  \\\n",
       "count                    48895.000000      48895.000000  48871.000000   \n",
       "mean                         7.143982        112.781327  10675.111211   \n",
       "std                         32.952519        131.622289    599.591915   \n",
       "min                          1.000000          0.000000  10001.000000   \n",
       "25%                          1.000000          0.000000  10024.000000   \n",
       "50%                          1.000000         45.000000  11104.000000   \n",
       "75%                          2.000000        227.000000  11221.000000   \n",
       "max                        327.000000        365.000000  11697.000000   \n",
       "\n",
       "        dist_subway       cnt_all  cnt_entire_home  cnt_private_room  \\\n",
       "count  48895.000000  48895.000000     48895.000000      48895.000000   \n",
       "mean       0.245997     52.815768        29.719726         22.013396   \n",
       "std        0.346640     43.303548        29.254144         18.668278   \n",
       "min        0.000553      0.000000         0.000000          0.000000   \n",
       "25%        0.103457     20.000000         8.000000          7.000000   \n",
       "50%        0.173022     43.000000        20.000000         17.000000   \n",
       "75%        0.269066     73.000000        42.000000         33.000000   \n",
       "max        4.931115    230.000000       142.000000         91.000000   \n",
       "\n",
       "       cnt_shared_room  avgprice_all  avgprice_entire_home  \\\n",
       "count     48895.000000  48895.000000          48895.000000   \n",
       "mean          1.082646    152.703409            191.493067   \n",
       "std           2.615105     90.678742            114.468382   \n",
       "min           0.000000      0.000000              0.000000   \n",
       "25%           0.000000     94.812500            137.250000   \n",
       "50%           0.000000    135.208333            180.850000   \n",
       "75%           1.000000    189.000000            231.264463   \n",
       "max          26.000000   5000.000000           5000.000000   \n",
       "\n",
       "       avgprice_private_room  avgprice_shared_room  \n",
       "count           48895.000000          48895.000000  \n",
       "mean               98.024409             40.581520  \n",
       "std                73.981026             93.479089  \n",
       "min                 0.000000              0.000000  \n",
       "25%                64.500000              0.000000  \n",
       "50%                83.666667              0.000000  \n",
       "75%               111.500000             60.000000  \n",
       "max              3000.000000           1800.000000  "
      ]
     },
     "execution_count": 3,
     "metadata": {},
     "output_type": "execute_result"
    }
   ],
   "source": [
    "data = pd.read_csv('ABNB_NY_V2.csv')\n",
    "summary = data.describe()\n",
    "print({x: len(data[x].unique()) for x in data.columns})\n",
    "summary"
   ]
  },
  {
   "cell_type": "markdown",
   "metadata": {},
   "source": [
    "### Type Conversion"
   ]
  },
  {
   "cell_type": "code",
   "execution_count": 4,
   "metadata": {},
   "outputs": [],
   "source": [
    "data['price'] = data['price'].astype('float')\n",
    "data['minimum_nights'] = data['minimum_nights'].astype('float')\n",
    "data['number_of_reviews'] = data['number_of_reviews'].astype('float')\n",
    "data['calculated_host_listings_count'] = data[\n",
    "    'calculated_host_listings_count'].astype('float')\n",
    "data['availability_365'] = data['availability_365'].astype('float')\n",
    "data['dist_subway'] = data['dist_subway'].astype('float')\n",
    "data['cnt_all'] = data['cnt_all'].astype('float')\n",
    "data['cnt_all'] = data['cnt_all'].astype('float')\n",
    "data['cnt_entire_home'] = data['cnt_entire_home'].astype('float')\n",
    "data['cnt_private_room'] = data['cnt_private_room'].astype('float')\n",
    "data['cnt_shared_room'] = data['cnt_shared_room'].astype('float')\n",
    "data['avgprice_all'] = data['avgprice_all'].astype('float')\n",
    "data['avgprice_entire_home'] = data['avgprice_entire_home'].astype('float')\n",
    "data['avgprice_private_room'] = data['avgprice_private_room'].astype('float')\n",
    "data['avgprice_shared_room'] = data['avgprice_shared_room'].astype('float')\n",
    "data['neighbourhood_group'] = data['neighbourhood_group'].astype('category')\n",
    "data['neighbourhood'] = data['neighbourhood'].astype('category')\n",
    "data['ZIP'] = data['ZIP'].astype('category')\n",
    "data['last_review'] = pd.to_datetime(data['last_review'])\n",
    "\n",
    "data['days_since_last_review'] = (\n",
    "    dt.datetime.strptime('2020-01-01', '%Y-%m-%d') -\n",
    "    data['last_review']).dt.days\n",
    "data.days_since_last_review.fillna(data.days_since_last_review.max(),\n",
    "                                   inplace=True)\n",
    "data.drop(columns=['last_review'], inplace=True)"
   ]
  },
  {
   "cell_type": "markdown",
   "metadata": {},
   "source": [
    "### Remove Outliers"
   ]
  },
  {
   "cell_type": "code",
   "execution_count": 5,
   "metadata": {},
   "outputs": [],
   "source": [
    "data = data[data.price != 0].copy()\n",
    "data = data[data.price < 300].copy()\n",
    "data = data[data.minimum_nights <= 20].copy()"
   ]
  },
  {
   "cell_type": "code",
   "execution_count": 6,
   "metadata": {},
   "outputs": [],
   "source": [
    "idx = data[data['room_type'] == 'Shared room'].index\n",
    "data.drop(idx , inplace=True)"
   ]
  },
  {
   "cell_type": "markdown",
   "metadata": {},
   "source": [
    "### Encode Target Variable"
   ]
  },
  {
   "cell_type": "code",
   "execution_count": 84,
   "metadata": {},
   "outputs": [],
   "source": [
    "target_col = 'room_type'\n",
    "room_types = {'Entire home/apt': 0, 'Private room': 1}\n",
    "data['Response'] = data.apply(lambda x: room_types[x.room_type], axis=1)"
   ]
  },
  {
   "cell_type": "markdown",
   "metadata": {},
   "source": [
    "### Drop Columns that won't be used in modeling"
   ]
  },
  {
   "cell_type": "code",
   "execution_count": 8,
   "metadata": {},
   "outputs": [],
   "source": [
    "data.drop(\n",
    "    columns=['id', 'name', 'host_id', 'host_name', 'neighbourhood', 'ZIP'],\n",
    "    inplace=True)"
   ]
  },
  {
   "cell_type": "markdown",
   "metadata": {},
   "source": [
    "### Feature / Target Split"
   ]
  },
  {
   "cell_type": "code",
   "execution_count": 9,
   "metadata": {},
   "outputs": [
    {
     "data": {
      "text/plain": [
       "((39156, 20), (39156, 1))"
      ]
     },
     "execution_count": 9,
     "metadata": {},
     "output_type": "execute_result"
    }
   ],
   "source": [
    "data_final = data\n",
    "features, target = data_final.drop(\n",
    "    columns=['Response']), data_final.loc[:, ['Response']]\n",
    "features.shape, target.shape"
   ]
  },
  {
   "cell_type": "markdown",
   "metadata": {},
   "source": [
    "<a id=\"CreateModels\"></a>\n",
    "# Create Models"
   ]
  },
  {
   "cell_type": "markdown",
   "metadata": {},
   "source": [
    "[50] Create a logistic regression model and a support vector machine model for the classification task involved with your dataset. Assess how well each model performs (use 80/20 training/testing split for your data). Adjust parameters of the models to make them more accurate. If your dataset size requires the use of stochastic gradient descent, then linear kernel only is fine to use. That is, the SGDClassifier is fine to use for optimizing logistic regression and linear support vector machines. For many problems, SGD will be required in order to train the SVM model in a reasonable timeframe. "
   ]
  },
  {
   "cell_type": "markdown",
   "metadata": {},
   "source": [
    "## Splitting and Encoding Data for Modeling"
   ]
  },
  {
   "cell_type": "markdown",
   "metadata": {},
   "source": [
    "### Train / Test Split"
   ]
  },
  {
   "cell_type": "code",
   "execution_count": 93,
   "metadata": {},
   "outputs": [
    {
     "data": {
      "text/plain": [
       "ClassBalance(ax=<matplotlib.axes._subplots.AxesSubplot object at 0x000001CC2E403F60>,\n",
       "       colormap=None, colors=None,\n",
       "       labels=['Entire home/apt', 'Private room'])"
      ]
     },
     "execution_count": 93,
     "metadata": {},
     "output_type": "execute_result"
    },
    {
     "data": {
      "image/png": "[encoded data removed]",
      "text/plain": [
       "<Figure size 432x288 with 1 Axes>"
      ]
     },
     "metadata": {
      "needs_background": "light"
     },
     "output_type": "display_data"
    }
   ],
   "source": [
    "X_train, X_test, y_train, y_test = train_test_split(features,\n",
    "                                                    target,\n",
    "                                                    test_size=0.2,\n",
    "                                                    random_state=0)\n",
    "classes_test = ClassBalance(\n",
    "    labels=['Entire home/apt', 'Private room'])\n",
    "classes_test.fit(y_train['Response'], y_test['Response'])"
   ]
  },
  {
   "cell_type": "markdown",
   "metadata": {},
   "source": [
    "We split the data set into 80% Train and 20% Test. The bar graph above shows the split by level of our response variable room type. Its good to note that 'Shared room' has a small number of observations compared to the other two classes."
   ]
  },
  {
   "cell_type": "markdown",
   "metadata": {},
   "source": [
    "### Data Transforms\n",
    "- One Hot Encode all categoricals\n",
    "- Standard Scale all numerics (sklearn is not R - it does not do this by default)\n",
    "- This needs to be done on train/test set separately (create a pipeline) \n",
    "\n",
    "https://scikit-learn.org/stable/modules/cross_validation.html\n",
    "\n",
    "https://scikit-learn.org/stable/modules/compose.html#combining-estimators"
   ]
  },
  {
   "cell_type": "code",
   "execution_count": 94,
   "metadata": {},
   "outputs": [
    {
     "name": "stdout",
     "output_type": "stream",
     "text": [
      "neighbourhood_group was OHE'd\n",
      "latitude was Standard Scaled\n",
      "longitude was Standard Scaled\n",
      "price was Standard Scaled\n",
      "minimum_nights was Standard Scaled\n",
      "number_of_reviews was Standard Scaled\n",
      "reviews_per_month was Standard Scaled\n",
      "calculated_host_listings_count was Standard Scaled\n",
      "availability_365 was Standard Scaled\n",
      "dist_subway was Standard Scaled\n",
      "cnt_all was Standard Scaled\n",
      "cnt_entire_home was Standard Scaled\n",
      "cnt_private_room was Standard Scaled\n",
      "cnt_shared_room was Standard Scaled\n",
      "avgprice_all was Standard Scaled\n",
      "avgprice_entire_home was Standard Scaled\n",
      "avgprice_private_room was Standard Scaled\n",
      "avgprice_shared_room was Standard Scaled\n",
      "days_since_last_review was Standard Scaled\n"
     ]
    },
    {
     "name": "stderr",
     "output_type": "stream",
     "text": [
      "D:\\Users\\William\\Anaconda3\\lib\\site-packages\\pandas\\core\\generic.py:6245: SettingWithCopyWarning: \n",
      "A value is trying to be set on a copy of a slice from a DataFrame\n",
      "\n",
      "See the caveats in the documentation: https://pandas.pydata.org/pandas-docs/stable/user_guide/indexing.html#returning-a-view-versus-a-copy\n",
      "  self._update_inplace(new_data)\n"
     ]
    }
   ],
   "source": [
    "#OH encode\n",
    "label_encode = [\n",
    "    x for x, y in dict(X_train.dtypes).items()\n",
    "    if type(y) == pd.CategoricalDtype\n",
    "]\n",
    "for var in label_encode:\n",
    "    #impute to Mode\n",
    "    print(f\"{var} was OHE'd\")\n",
    "    X_train[var].fillna(X_train[var].mode()[0], inplace=True)\n",
    "    X_test[var].fillna(X_train[var].mode()[0], inplace=True)\n",
    "    cat_list_train = pd.get_dummies(X_train[var], prefix=var)\n",
    "    cat_list_test = pd.get_dummies(X_test[var], prefix=var)\n",
    "    X_train_new = X_train.join(cat_list_train)\n",
    "    X_train = X_train_new\n",
    "    X_test_new = X_test.join(cat_list_test)\n",
    "    X_test = X_test_new\n",
    "\n",
    "normalize = [x for x, y in dict(X_train.dtypes).items() if y == np.float64]\n",
    "for col in normalize:\n",
    "    #change impution scheme?\n",
    "    print(f\"{col} was Standard Scaled\")\n",
    "    X_train[col].fillna(X_train[col].median(), inplace=True)\n",
    "    X_test[col].fillna(X_train[col].median(), inplace=True)\n",
    "    normalizer = StandardScaler()\n",
    "    ar_train = X_train[col].to_numpy().reshape(-1, 1)\n",
    "    normalizer.fit(ar_train)\n",
    "    X_train.loc[:, col] = normalizer.transform(ar_train)\n",
    "    ar_test = X_test[col].to_numpy().reshape(-1, 1)\n",
    "    X_test.loc[:, col] = normalizer.transform(ar_test)\n",
    "\n",
    "X_train.drop(columns=label_encode, inplace=True)\n",
    "X_test.drop(columns=label_encode, inplace=True)\n",
    "X_train.drop(columns=target_col, inplace=True)\n",
    "X_test.drop(columns=target_col, inplace=True)"
   ]
  },
  {
   "cell_type": "markdown",
   "metadata": {},
   "source": [
    "The ‘neighbourhood_group’ feature contains 5 unique categorical values that were transformed through one-hot encoding. This process is used to re-classify a single categorical feature into multiple binary features. In the ‘neighbourhood_group’ feature, the values for Bronx, Brooklyn, Manhattan, Queens, and Staten Island were converted to individual binary features with a value of 1 being used to identify that the rental unit is located in each particular neighborhood or borough designated by the feature.\n",
    "\n",
    "During the training process, missing values would result in errors with Scikit learn if not removed or imputed. These missing values were imputed using the non-missing values in each feature. For categorical variables, mode imputation was applied. For float variables, median imputation was applied.\n",
    "\n",
    "Multiple features in the data set contain values with different ranges. Features with higher ranges and larger values could have a greater influence on the result. This was accounted for through normalization using Standard Scaler. In this case, normalization is achieved by simply converting values to z-scores for all numeric features."
   ]
  },
  {
   "cell_type": "markdown",
   "metadata": {},
   "source": [
    "### Baseline Accuracy"
   ]
  },
  {
   "cell_type": "code",
   "execution_count": 128,
   "metadata": {},
   "outputs": [
    {
     "name": "stdout",
     "output_type": "stream",
     "text": [
      "{'class_0': 0.48014302132550124, 'class_1': 0.5198569786744988}\n",
      "{'class_0': 0.4726762002042901, 'class_1': 0.5273237997957099}\n"
     ]
    }
   ],
   "source": [
    "base_line_accuracy_train = {\n",
    "    'class_0': (y_train[y_train.Response == 0].shape[0] / y_train.shape[0]),\n",
    "    'class_1': (y_train[y_train.Response == 1].shape[0] / y_train.shape[0])\n",
    "}\n",
    "base_line_accuracy_test = {\n",
    "    'class_0': (y_test[y_test.Response == 0].shape[0] / y_test.shape[0]),\n",
    "    'class_1': (y_test[y_test.Response == 1].shape[0] / y_test.shape[0])\n",
    "}\n",
    "\n",
    "print(base_line_accuracy_train)\n",
    "print(base_line_accuracy_test)"
   ]
  },
  {
   "cell_type": "markdown",
   "metadata": {},
   "source": [
    "We could achieve 52% - 53% accuracy by predicting class 1 all the time (Private room). Hopefully our models do better!"
   ]
  },
  {
   "cell_type": "markdown",
   "metadata": {},
   "source": [
    "## Logistic Regression"
   ]
  },
  {
   "cell_type": "code",
   "execution_count": 35,
   "metadata": {
    "scrolled": true
   },
   "outputs": [
    {
     "name": "stderr",
     "output_type": "stream",
     "text": [
      "D:\\Users\\William\\Anaconda3\\lib\\site-packages\\sklearn\\linear_model\\logistic.py:1297: UserWarning: 'n_jobs' > 1 does not have any effect when 'solver' is set to 'liblinear'. Got 'n_jobs' = 16.\n",
      "  \" = {}.\".format(effective_n_jobs(self.n_jobs)))\n"
     ]
    },
    {
     "name": "stdout",
     "output_type": "stream",
     "text": [
      "Best parameter (Accuracy score=0.834):\n",
      "{'logistic__C': 1.0, 'logistic__penalty': 'l1'}\n"
     ]
    },
    {
     "data": {
      "text/html": [
       "<div>\n",
       "<style scoped>\n",
       "    .dataframe tbody tr th:only-of-type {\n",
       "        vertical-align: middle;\n",
       "    }\n",
       "\n",
       "    .dataframe tbody tr th {\n",
       "        vertical-align: top;\n",
       "    }\n",
       "\n",
       "    .dataframe thead th {\n",
       "        text-align: right;\n",
       "    }\n",
       "</style>\n",
       "<table border=\"1\" class=\"dataframe\">\n",
       "  <thead>\n",
       "    <tr style=\"text-align: right;\">\n",
       "      <th></th>\n",
       "      <th>mean_fit_time</th>\n",
       "      <th>std_fit_time</th>\n",
       "      <th>mean_score_time</th>\n",
       "      <th>std_score_time</th>\n",
       "      <th>param_logistic__C</th>\n",
       "      <th>param_logistic__penalty</th>\n",
       "      <th>params</th>\n",
       "      <th>split0_test_score</th>\n",
       "      <th>split1_test_score</th>\n",
       "      <th>split2_test_score</th>\n",
       "      <th>mean_test_score</th>\n",
       "      <th>std_test_score</th>\n",
       "      <th>rank_test_score</th>\n",
       "      <th>split0_train_score</th>\n",
       "      <th>split1_train_score</th>\n",
       "      <th>split2_train_score</th>\n",
       "      <th>mean_train_score</th>\n",
       "      <th>std_train_score</th>\n",
       "    </tr>\n",
       "  </thead>\n",
       "  <tbody>\n",
       "    <tr>\n",
       "      <th>19</th>\n",
       "      <td>0.577904</td>\n",
       "      <td>0.018412</td>\n",
       "      <td>0.002667</td>\n",
       "      <td>0.000471</td>\n",
       "      <td>100</td>\n",
       "      <td>l2</td>\n",
       "      <td>{'logistic__C': 100.0, 'logistic__penalty': 'l2'}</td>\n",
       "      <td>0.837387</td>\n",
       "      <td>0.833254</td>\n",
       "      <td>0.830955</td>\n",
       "      <td>0.833865</td>\n",
       "      <td>0.002662</td>\n",
       "      <td>1</td>\n",
       "      <td>0.832775</td>\n",
       "      <td>0.832687</td>\n",
       "      <td>0.835081</td>\n",
       "      <td>0.833514</td>\n",
       "      <td>0.001109</td>\n",
       "    </tr>\n",
       "    <tr>\n",
       "      <th>12</th>\n",
       "      <td>1.504080</td>\n",
       "      <td>0.533757</td>\n",
       "      <td>0.006336</td>\n",
       "      <td>0.004716</td>\n",
       "      <td>1</td>\n",
       "      <td>l1</td>\n",
       "      <td>{'logistic__C': 1.0, 'logistic__penalty': 'l1'}</td>\n",
       "      <td>0.837100</td>\n",
       "      <td>0.833349</td>\n",
       "      <td>0.831146</td>\n",
       "      <td>0.833865</td>\n",
       "      <td>0.002458</td>\n",
       "      <td>1</td>\n",
       "      <td>0.832870</td>\n",
       "      <td>0.832687</td>\n",
       "      <td>0.835368</td>\n",
       "      <td>0.833642</td>\n",
       "      <td>0.001223</td>\n",
       "    </tr>\n",
       "    <tr>\n",
       "      <th>18</th>\n",
       "      <td>0.435877</td>\n",
       "      <td>0.020763</td>\n",
       "      <td>0.007335</td>\n",
       "      <td>0.001701</td>\n",
       "      <td>100</td>\n",
       "      <td>l1</td>\n",
       "      <td>{'logistic__C': 100.0, 'logistic__penalty': 'l1'}</td>\n",
       "      <td>0.837387</td>\n",
       "      <td>0.833254</td>\n",
       "      <td>0.830955</td>\n",
       "      <td>0.833865</td>\n",
       "      <td>0.002662</td>\n",
       "      <td>1</td>\n",
       "      <td>0.832823</td>\n",
       "      <td>0.832735</td>\n",
       "      <td>0.835081</td>\n",
       "      <td>0.833546</td>\n",
       "      <td>0.001086</td>\n",
       "    </tr>\n",
       "    <tr>\n",
       "      <th>17</th>\n",
       "      <td>0.832298</td>\n",
       "      <td>0.051439</td>\n",
       "      <td>0.004670</td>\n",
       "      <td>0.000472</td>\n",
       "      <td>21.5443</td>\n",
       "      <td>l2</td>\n",
       "      <td>{'logistic__C': 21.54434690031882, 'logistic__...</td>\n",
       "      <td>0.837387</td>\n",
       "      <td>0.833254</td>\n",
       "      <td>0.830955</td>\n",
       "      <td>0.833865</td>\n",
       "      <td>0.002662</td>\n",
       "      <td>1</td>\n",
       "      <td>0.832775</td>\n",
       "      <td>0.832687</td>\n",
       "      <td>0.835081</td>\n",
       "      <td>0.833514</td>\n",
       "      <td>0.001109</td>\n",
       "    </tr>\n",
       "    <tr>\n",
       "      <th>16</th>\n",
       "      <td>0.528453</td>\n",
       "      <td>0.121315</td>\n",
       "      <td>0.016007</td>\n",
       "      <td>0.012757</td>\n",
       "      <td>21.5443</td>\n",
       "      <td>l1</td>\n",
       "      <td>{'logistic__C': 21.54434690031882, 'logistic__...</td>\n",
       "      <td>0.837387</td>\n",
       "      <td>0.833254</td>\n",
       "      <td>0.830955</td>\n",
       "      <td>0.833865</td>\n",
       "      <td>0.002662</td>\n",
       "      <td>1</td>\n",
       "      <td>0.832823</td>\n",
       "      <td>0.832687</td>\n",
       "      <td>0.835081</td>\n",
       "      <td>0.833530</td>\n",
       "      <td>0.001098</td>\n",
       "    </tr>\n",
       "    <tr>\n",
       "      <th>14</th>\n",
       "      <td>1.396192</td>\n",
       "      <td>0.784227</td>\n",
       "      <td>0.007004</td>\n",
       "      <td>0.002946</td>\n",
       "      <td>4.64159</td>\n",
       "      <td>l1</td>\n",
       "      <td>{'logistic__C': 4.641588833612772, 'logistic__...</td>\n",
       "      <td>0.837292</td>\n",
       "      <td>0.833158</td>\n",
       "      <td>0.831146</td>\n",
       "      <td>0.833865</td>\n",
       "      <td>0.002558</td>\n",
       "      <td>1</td>\n",
       "      <td>0.832823</td>\n",
       "      <td>0.832687</td>\n",
       "      <td>0.835081</td>\n",
       "      <td>0.833530</td>\n",
       "      <td>0.001098</td>\n",
       "    </tr>\n",
       "    <tr>\n",
       "      <th>15</th>\n",
       "      <td>0.965922</td>\n",
       "      <td>0.062344</td>\n",
       "      <td>0.011005</td>\n",
       "      <td>0.004321</td>\n",
       "      <td>4.64159</td>\n",
       "      <td>l2</td>\n",
       "      <td>{'logistic__C': 4.641588833612772, 'logistic__...</td>\n",
       "      <td>0.837292</td>\n",
       "      <td>0.833254</td>\n",
       "      <td>0.830859</td>\n",
       "      <td>0.833802</td>\n",
       "      <td>0.002655</td>\n",
       "      <td>7</td>\n",
       "      <td>0.832823</td>\n",
       "      <td>0.832687</td>\n",
       "      <td>0.835225</td>\n",
       "      <td>0.833578</td>\n",
       "      <td>0.001166</td>\n",
       "    </tr>\n",
       "    <tr>\n",
       "      <th>13</th>\n",
       "      <td>1.019231</td>\n",
       "      <td>0.100644</td>\n",
       "      <td>0.010336</td>\n",
       "      <td>0.001699</td>\n",
       "      <td>1</td>\n",
       "      <td>l2</td>\n",
       "      <td>{'logistic__C': 1.0, 'logistic__penalty': 'l2'}</td>\n",
       "      <td>0.836909</td>\n",
       "      <td>0.833445</td>\n",
       "      <td>0.830955</td>\n",
       "      <td>0.833770</td>\n",
       "      <td>0.002441</td>\n",
       "      <td>8</td>\n",
       "      <td>0.832966</td>\n",
       "      <td>0.832735</td>\n",
       "      <td>0.835464</td>\n",
       "      <td>0.833722</td>\n",
       "      <td>0.001236</td>\n",
       "    </tr>\n",
       "    <tr>\n",
       "      <th>10</th>\n",
       "      <td>0.548457</td>\n",
       "      <td>0.093883</td>\n",
       "      <td>0.009334</td>\n",
       "      <td>0.002626</td>\n",
       "      <td>0.215443</td>\n",
       "      <td>l1</td>\n",
       "      <td>{'logistic__C': 0.21544346900318823, 'logistic...</td>\n",
       "      <td>0.837675</td>\n",
       "      <td>0.832870</td>\n",
       "      <td>0.830380</td>\n",
       "      <td>0.833642</td>\n",
       "      <td>0.003028</td>\n",
       "      <td>9</td>\n",
       "      <td>0.832200</td>\n",
       "      <td>0.832591</td>\n",
       "      <td>0.835225</td>\n",
       "      <td>0.833339</td>\n",
       "      <td>0.001343</td>\n",
       "    </tr>\n",
       "    <tr>\n",
       "      <th>11</th>\n",
       "      <td>1.014233</td>\n",
       "      <td>0.083890</td>\n",
       "      <td>0.008667</td>\n",
       "      <td>0.001246</td>\n",
       "      <td>0.215443</td>\n",
       "      <td>l2</td>\n",
       "      <td>{'logistic__C': 0.21544346900318823, 'logistic...</td>\n",
       "      <td>0.837292</td>\n",
       "      <td>0.833062</td>\n",
       "      <td>0.830189</td>\n",
       "      <td>0.833514</td>\n",
       "      <td>0.002917</td>\n",
       "      <td>10</td>\n",
       "      <td>0.832439</td>\n",
       "      <td>0.832687</td>\n",
       "      <td>0.835608</td>\n",
       "      <td>0.833578</td>\n",
       "      <td>0.001439</td>\n",
       "    </tr>\n",
       "    <tr>\n",
       "      <th>9</th>\n",
       "      <td>0.823520</td>\n",
       "      <td>0.143922</td>\n",
       "      <td>0.009667</td>\n",
       "      <td>0.001248</td>\n",
       "      <td>0.0464159</td>\n",
       "      <td>l2</td>\n",
       "      <td>{'logistic__C': 0.046415888336127774, 'logisti...</td>\n",
       "      <td>0.837579</td>\n",
       "      <td>0.832104</td>\n",
       "      <td>0.830284</td>\n",
       "      <td>0.833323</td>\n",
       "      <td>0.003100</td>\n",
       "      <td>11</td>\n",
       "      <td>0.831865</td>\n",
       "      <td>0.832831</td>\n",
       "      <td>0.835081</td>\n",
       "      <td>0.833259</td>\n",
       "      <td>0.001348</td>\n",
       "    </tr>\n",
       "    <tr>\n",
       "      <th>8</th>\n",
       "      <td>0.489447</td>\n",
       "      <td>0.111780</td>\n",
       "      <td>0.007336</td>\n",
       "      <td>0.001249</td>\n",
       "      <td>0.0464159</td>\n",
       "      <td>l1</td>\n",
       "      <td>{'logistic__C': 0.046415888336127774, 'logisti...</td>\n",
       "      <td>0.835568</td>\n",
       "      <td>0.831146</td>\n",
       "      <td>0.830380</td>\n",
       "      <td>0.832365</td>\n",
       "      <td>0.002286</td>\n",
       "      <td>12</td>\n",
       "      <td>0.831386</td>\n",
       "      <td>0.832016</td>\n",
       "      <td>0.834363</td>\n",
       "      <td>0.832588</td>\n",
       "      <td>0.001281</td>\n",
       "    </tr>\n",
       "    <tr>\n",
       "      <th>7</th>\n",
       "      <td>0.611476</td>\n",
       "      <td>0.041918</td>\n",
       "      <td>0.009667</td>\n",
       "      <td>0.000473</td>\n",
       "      <td>0.01</td>\n",
       "      <td>l2</td>\n",
       "      <td>{'logistic__C': 0.01, 'logistic__penalty': 'l2'}</td>\n",
       "      <td>0.836238</td>\n",
       "      <td>0.830380</td>\n",
       "      <td>0.828848</td>\n",
       "      <td>0.831822</td>\n",
       "      <td>0.003185</td>\n",
       "      <td>13</td>\n",
       "      <td>0.830715</td>\n",
       "      <td>0.831681</td>\n",
       "      <td>0.833836</td>\n",
       "      <td>0.832078</td>\n",
       "      <td>0.001304</td>\n",
       "    </tr>\n",
       "    <tr>\n",
       "      <th>6</th>\n",
       "      <td>0.207710</td>\n",
       "      <td>0.010881</td>\n",
       "      <td>0.006335</td>\n",
       "      <td>0.000474</td>\n",
       "      <td>0.01</td>\n",
       "      <td>l1</td>\n",
       "      <td>{'logistic__C': 0.01, 'logistic__penalty': 'l1'}</td>\n",
       "      <td>0.832599</td>\n",
       "      <td>0.828273</td>\n",
       "      <td>0.828465</td>\n",
       "      <td>0.829779</td>\n",
       "      <td>0.001996</td>\n",
       "      <td>14</td>\n",
       "      <td>0.827986</td>\n",
       "      <td>0.829670</td>\n",
       "      <td>0.832016</td>\n",
       "      <td>0.829891</td>\n",
       "      <td>0.001653</td>\n",
       "    </tr>\n",
       "    <tr>\n",
       "      <th>5</th>\n",
       "      <td>0.464773</td>\n",
       "      <td>0.027819</td>\n",
       "      <td>0.009669</td>\n",
       "      <td>0.001248</td>\n",
       "      <td>0.00215443</td>\n",
       "      <td>l2</td>\n",
       "      <td>{'logistic__C': 0.002154434690031882, 'logisti...</td>\n",
       "      <td>0.829726</td>\n",
       "      <td>0.825113</td>\n",
       "      <td>0.824346</td>\n",
       "      <td>0.826395</td>\n",
       "      <td>0.002376</td>\n",
       "      <td>15</td>\n",
       "      <td>0.825879</td>\n",
       "      <td>0.826318</td>\n",
       "      <td>0.828233</td>\n",
       "      <td>0.826810</td>\n",
       "      <td>0.001022</td>\n",
       "    </tr>\n",
       "    <tr>\n",
       "      <th>4</th>\n",
       "      <td>0.134366</td>\n",
       "      <td>0.008015</td>\n",
       "      <td>0.009669</td>\n",
       "      <td>0.002053</td>\n",
       "      <td>0.00215443</td>\n",
       "      <td>l1</td>\n",
       "      <td>{'logistic__C': 0.002154434690031882, 'logisti...</td>\n",
       "      <td>0.813541</td>\n",
       "      <td>0.808543</td>\n",
       "      <td>0.808735</td>\n",
       "      <td>0.810273</td>\n",
       "      <td>0.002312</td>\n",
       "      <td>16</td>\n",
       "      <td>0.809501</td>\n",
       "      <td>0.810181</td>\n",
       "      <td>0.811473</td>\n",
       "      <td>0.810385</td>\n",
       "      <td>0.000818</td>\n",
       "    </tr>\n",
       "    <tr>\n",
       "      <th>3</th>\n",
       "      <td>0.317407</td>\n",
       "      <td>0.016745</td>\n",
       "      <td>0.011337</td>\n",
       "      <td>0.003861</td>\n",
       "      <td>0.000464159</td>\n",
       "      <td>l2</td>\n",
       "      <td>{'logistic__C': 0.00046415888336127773, 'logis...</td>\n",
       "      <td>0.814978</td>\n",
       "      <td>0.805095</td>\n",
       "      <td>0.808543</td>\n",
       "      <td>0.809539</td>\n",
       "      <td>0.004096</td>\n",
       "      <td>17</td>\n",
       "      <td>0.807729</td>\n",
       "      <td>0.810324</td>\n",
       "      <td>0.811138</td>\n",
       "      <td>0.809731</td>\n",
       "      <td>0.001454</td>\n",
       "    </tr>\n",
       "    <tr>\n",
       "      <th>2</th>\n",
       "      <td>0.129031</td>\n",
       "      <td>0.025578</td>\n",
       "      <td>0.016336</td>\n",
       "      <td>0.006945</td>\n",
       "      <td>0.000464159</td>\n",
       "      <td>l1</td>\n",
       "      <td>{'logistic__C': 0.00046415888336127773, 'logis...</td>\n",
       "      <td>0.799081</td>\n",
       "      <td>0.792166</td>\n",
       "      <td>0.797625</td>\n",
       "      <td>0.796290</td>\n",
       "      <td>0.002977</td>\n",
       "      <td>18</td>\n",
       "      <td>0.794895</td>\n",
       "      <td>0.798353</td>\n",
       "      <td>0.795623</td>\n",
       "      <td>0.796290</td>\n",
       "      <td>0.001488</td>\n",
       "    </tr>\n",
       "    <tr>\n",
       "      <th>1</th>\n",
       "      <td>0.235722</td>\n",
       "      <td>0.010146</td>\n",
       "      <td>0.008003</td>\n",
       "      <td>0.000818</td>\n",
       "      <td>0.0001</td>\n",
       "      <td>l2</td>\n",
       "      <td>{'logistic__C': 0.0001, 'logistic__penalty': '...</td>\n",
       "      <td>0.781076</td>\n",
       "      <td>0.772436</td>\n",
       "      <td>0.776554</td>\n",
       "      <td>0.776689</td>\n",
       "      <td>0.003529</td>\n",
       "      <td>19</td>\n",
       "      <td>0.778086</td>\n",
       "      <td>0.775942</td>\n",
       "      <td>0.775798</td>\n",
       "      <td>0.776609</td>\n",
       "      <td>0.001046</td>\n",
       "    </tr>\n",
       "    <tr>\n",
       "      <th>0</th>\n",
       "      <td>0.090688</td>\n",
       "      <td>0.008657</td>\n",
       "      <td>0.009001</td>\n",
       "      <td>0.003744</td>\n",
       "      <td>0.0001</td>\n",
       "      <td>l1</td>\n",
       "      <td>{'logistic__C': 0.0001, 'logistic__penalty': '...</td>\n",
       "      <td>0.480176</td>\n",
       "      <td>0.480126</td>\n",
       "      <td>0.480126</td>\n",
       "      <td>0.480143</td>\n",
       "      <td>0.000023</td>\n",
       "      <td>20</td>\n",
       "      <td>0.480126</td>\n",
       "      <td>0.480151</td>\n",
       "      <td>0.480151</td>\n",
       "      <td>0.480143</td>\n",
       "      <td>0.000012</td>\n",
       "    </tr>\n",
       "  </tbody>\n",
       "</table>\n",
       "</div>"
      ],
      "text/plain": [
       "    mean_fit_time  std_fit_time  mean_score_time  std_score_time  \\\n",
       "19       0.577904      0.018412         0.002667        0.000471   \n",
       "12       1.504080      0.533757         0.006336        0.004716   \n",
       "18       0.435877      0.020763         0.007335        0.001701   \n",
       "17       0.832298      0.051439         0.004670        0.000472   \n",
       "16       0.528453      0.121315         0.016007        0.012757   \n",
       "14       1.396192      0.784227         0.007004        0.002946   \n",
       "15       0.965922      0.062344         0.011005        0.004321   \n",
       "13       1.019231      0.100644         0.010336        0.001699   \n",
       "10       0.548457      0.093883         0.009334        0.002626   \n",
       "11       1.014233      0.083890         0.008667        0.001246   \n",
       "9        0.823520      0.143922         0.009667        0.001248   \n",
       "8        0.489447      0.111780         0.007336        0.001249   \n",
       "7        0.611476      0.041918         0.009667        0.000473   \n",
       "6        0.207710      0.010881         0.006335        0.000474   \n",
       "5        0.464773      0.027819         0.009669        0.001248   \n",
       "4        0.134366      0.008015         0.009669        0.002053   \n",
       "3        0.317407      0.016745         0.011337        0.003861   \n",
       "2        0.129031      0.025578         0.016336        0.006945   \n",
       "1        0.235722      0.010146         0.008003        0.000818   \n",
       "0        0.090688      0.008657         0.009001        0.003744   \n",
       "\n",
       "   param_logistic__C param_logistic__penalty  \\\n",
       "19               100                      l2   \n",
       "12                 1                      l1   \n",
       "18               100                      l1   \n",
       "17           21.5443                      l2   \n",
       "16           21.5443                      l1   \n",
       "14           4.64159                      l1   \n",
       "15           4.64159                      l2   \n",
       "13                 1                      l2   \n",
       "10          0.215443                      l1   \n",
       "11          0.215443                      l2   \n",
       "9          0.0464159                      l2   \n",
       "8          0.0464159                      l1   \n",
       "7               0.01                      l2   \n",
       "6               0.01                      l1   \n",
       "5         0.00215443                      l2   \n",
       "4         0.00215443                      l1   \n",
       "3        0.000464159                      l2   \n",
       "2        0.000464159                      l1   \n",
       "1             0.0001                      l2   \n",
       "0             0.0001                      l1   \n",
       "\n",
       "                                               params  split0_test_score  \\\n",
       "19  {'logistic__C': 100.0, 'logistic__penalty': 'l2'}           0.837387   \n",
       "12    {'logistic__C': 1.0, 'logistic__penalty': 'l1'}           0.837100   \n",
       "18  {'logistic__C': 100.0, 'logistic__penalty': 'l1'}           0.837387   \n",
       "17  {'logistic__C': 21.54434690031882, 'logistic__...           0.837387   \n",
       "16  {'logistic__C': 21.54434690031882, 'logistic__...           0.837387   \n",
       "14  {'logistic__C': 4.641588833612772, 'logistic__...           0.837292   \n",
       "15  {'logistic__C': 4.641588833612772, 'logistic__...           0.837292   \n",
       "13    {'logistic__C': 1.0, 'logistic__penalty': 'l2'}           0.836909   \n",
       "10  {'logistic__C': 0.21544346900318823, 'logistic...           0.837675   \n",
       "11  {'logistic__C': 0.21544346900318823, 'logistic...           0.837292   \n",
       "9   {'logistic__C': 0.046415888336127774, 'logisti...           0.837579   \n",
       "8   {'logistic__C': 0.046415888336127774, 'logisti...           0.835568   \n",
       "7    {'logistic__C': 0.01, 'logistic__penalty': 'l2'}           0.836238   \n",
       "6    {'logistic__C': 0.01, 'logistic__penalty': 'l1'}           0.832599   \n",
       "5   {'logistic__C': 0.002154434690031882, 'logisti...           0.829726   \n",
       "4   {'logistic__C': 0.002154434690031882, 'logisti...           0.813541   \n",
       "3   {'logistic__C': 0.00046415888336127773, 'logis...           0.814978   \n",
       "2   {'logistic__C': 0.00046415888336127773, 'logis...           0.799081   \n",
       "1   {'logistic__C': 0.0001, 'logistic__penalty': '...           0.781076   \n",
       "0   {'logistic__C': 0.0001, 'logistic__penalty': '...           0.480176   \n",
       "\n",
       "    split1_test_score  split2_test_score  mean_test_score  std_test_score  \\\n",
       "19           0.833254           0.830955         0.833865        0.002662   \n",
       "12           0.833349           0.831146         0.833865        0.002458   \n",
       "18           0.833254           0.830955         0.833865        0.002662   \n",
       "17           0.833254           0.830955         0.833865        0.002662   \n",
       "16           0.833254           0.830955         0.833865        0.002662   \n",
       "14           0.833158           0.831146         0.833865        0.002558   \n",
       "15           0.833254           0.830859         0.833802        0.002655   \n",
       "13           0.833445           0.830955         0.833770        0.002441   \n",
       "10           0.832870           0.830380         0.833642        0.003028   \n",
       "11           0.833062           0.830189         0.833514        0.002917   \n",
       "9            0.832104           0.830284         0.833323        0.003100   \n",
       "8            0.831146           0.830380         0.832365        0.002286   \n",
       "7            0.830380           0.828848         0.831822        0.003185   \n",
       "6            0.828273           0.828465         0.829779        0.001996   \n",
       "5            0.825113           0.824346         0.826395        0.002376   \n",
       "4            0.808543           0.808735         0.810273        0.002312   \n",
       "3            0.805095           0.808543         0.809539        0.004096   \n",
       "2            0.792166           0.797625         0.796290        0.002977   \n",
       "1            0.772436           0.776554         0.776689        0.003529   \n",
       "0            0.480126           0.480126         0.480143        0.000023   \n",
       "\n",
       "    rank_test_score  split0_train_score  split1_train_score  \\\n",
       "19                1            0.832775            0.832687   \n",
       "12                1            0.832870            0.832687   \n",
       "18                1            0.832823            0.832735   \n",
       "17                1            0.832775            0.832687   \n",
       "16                1            0.832823            0.832687   \n",
       "14                1            0.832823            0.832687   \n",
       "15                7            0.832823            0.832687   \n",
       "13                8            0.832966            0.832735   \n",
       "10                9            0.832200            0.832591   \n",
       "11               10            0.832439            0.832687   \n",
       "9                11            0.831865            0.832831   \n",
       "8                12            0.831386            0.832016   \n",
       "7                13            0.830715            0.831681   \n",
       "6                14            0.827986            0.829670   \n",
       "5                15            0.825879            0.826318   \n",
       "4                16            0.809501            0.810181   \n",
       "3                17            0.807729            0.810324   \n",
       "2                18            0.794895            0.798353   \n",
       "1                19            0.778086            0.775942   \n",
       "0                20            0.480126            0.480151   \n",
       "\n",
       "    split2_train_score  mean_train_score  std_train_score  \n",
       "19            0.835081          0.833514         0.001109  \n",
       "12            0.835368          0.833642         0.001223  \n",
       "18            0.835081          0.833546         0.001086  \n",
       "17            0.835081          0.833514         0.001109  \n",
       "16            0.835081          0.833530         0.001098  \n",
       "14            0.835081          0.833530         0.001098  \n",
       "15            0.835225          0.833578         0.001166  \n",
       "13            0.835464          0.833722         0.001236  \n",
       "10            0.835225          0.833339         0.001343  \n",
       "11            0.835608          0.833578         0.001439  \n",
       "9             0.835081          0.833259         0.001348  \n",
       "8             0.834363          0.832588         0.001281  \n",
       "7             0.833836          0.832078         0.001304  \n",
       "6             0.832016          0.829891         0.001653  \n",
       "5             0.828233          0.826810         0.001022  \n",
       "4             0.811473          0.810385         0.000818  \n",
       "3             0.811138          0.809731         0.001454  \n",
       "2             0.795623          0.796290         0.001488  \n",
       "1             0.775798          0.776609         0.001046  \n",
       "0             0.480151          0.480143         0.000012  "
      ]
     },
     "execution_count": 35,
     "metadata": {},
     "output_type": "execute_result"
    }
   ],
   "source": [
    "logistic = LogisticRegression(\n",
    "     max_iter=10000\n",
    "    ,fit_intercept=True # always fit an intercept term\n",
    "    ,n_jobs=-1 # use all processors\n",
    ")\n",
    "pipe = Pipeline(steps=[('logistic', logistic)])\n",
    "# Parameters of pipelines can be set using ‘__’ separated parameter names:\n",
    "param_grid = {\n",
    "    'logistic__C': np.logspace(-4, 2, 10),\n",
    "    #'logistic__class_weight':[None, 'balanced'],\n",
    "    'logistic__penalty':['l1', 'l2'],\n",
    "    #'logistic__multi_class':['auto', 'ovr', 'multinomial'],\n",
    "    #'logistic__dual':[True, False],\n",
    "    #'logistic__solver':['lbfgs', 'liblinear', 'sag', 'saga']\n",
    "}\n",
    "\n",
    "search_lr = GridSearchCV(pipe, param_grid, n_jobs=-1,error_score=0.0,scoring='accuracy')\n",
    "search_lr.fit(X_train, y_train.values.ravel())\n",
    "print(\"Best parameter (Accuracy score=%0.3f):\" % search_lr.best_score_)\n",
    "print(search_lr.best_params_)\n",
    "results_lr = pd.DataFrame(search_lr.cv_results_)\n",
    "results_lr.sort_values(by='mean_test_score', ascending=False)"
   ]
  },
  {
   "cell_type": "markdown",
   "metadata": {},
   "source": [
    "Here we ran a grid search over two parameters, cost and penalty. We tried 10 different values of cost and two values for penalty (l1, l2). We also set the error_score to zero which helps keep invalid parameter combinations from crashing the grid search.\n",
    "\n",
    "We printed the results of the search sorted by mean_test_score, with the best scores at the top. Two models tied for the best score: [C=100, penalty=l2] and [C=1, penalty=l1]"
   ]
  },
  {
   "cell_type": "code",
   "execution_count": 38,
   "metadata": {},
   "outputs": [
    {
     "name": "stdout",
     "output_type": "stream",
     "text": [
      "AxesSubplot(0.125,0.125;0.775x0.755)\n"
     ]
    },
    {
     "data": {
      "image/png": "[encoded data removed]",
      "text/plain": [
       "<Figure size 432x288 with 1 Axes>"
      ]
     },
     "metadata": {
      "needs_background": "light"
     },
     "output_type": "display_data"
    }
   ],
   "source": [
    "p1a = sns.lineplot(x=\"param_logistic__C\", y=\"mean_test_score\", data=results_lr, ci=None)\n",
    "print(p1a)\n"
   ]
  },
  {
   "cell_type": "markdown",
   "metadata": {},
   "source": [
    "Here I am showing how accuracy is changing for different values of C. It appears most of the change happens near zero, so we need to zoom in to see the detail."
   ]
  },
  {
   "cell_type": "code",
   "execution_count": 40,
   "metadata": {
    "scrolled": false
   },
   "outputs": [
    {
     "name": "stdout",
     "output_type": "stream",
     "text": [
      "[(0, 0.1)]\n"
     ]
    },
    {
     "data": {
      "image/png": "[encoded data removed]",
      "text/plain": [
       "<Figure size 432x288 with 1 Axes>"
      ]
     },
     "metadata": {
      "needs_background": "light"
     },
     "output_type": "display_data"
    }
   ],
   "source": [
    "p1b = sns.lineplot(x=\"param_logistic__C\", y=\"mean_test_score\", data=results_lr, ci=None).set(xlim=(0,0.1))\n",
    "print(p1b)"
   ]
  },
  {
   "cell_type": "markdown",
   "metadata": {},
   "source": [
    "Here we can see that most of the improvement comes between C=0 and C=0.01, beyond that the accuracy does not improve much for this data."
   ]
  },
  {
   "cell_type": "code",
   "execution_count": 96,
   "metadata": {
    "scrolled": false
   },
   "outputs": [
    {
     "name": "stdout",
     "output_type": "stream",
     "text": [
      "AxesSubplot(0.125,0.125;0.775x0.755)\n"
     ]
    },
    {
     "data": {
      "image/png": "[encoded data removed]",
      "text/plain": [
       "<Figure size 432x288 with 1 Axes>"
      ]
     },
     "metadata": {
      "needs_background": "light"
     },
     "output_type": "display_data"
    }
   ],
   "source": [
    "p2 = sns.boxplot(x=\"param_logistic__penalty\", y=\"mean_test_score\", data=results_lr)\n",
    "print(p2)"
   ]
  },
  {
   "cell_type": "markdown",
   "metadata": {},
   "source": [
    "This boxplot shows the range of accuracies attained by penalty, l1 and l2. Both achieved similar overall levels of accuracy but the range for l2 was much narrower, suggesting it is more consistant. That said, l1 has a pretty narrow range except for the outlier below 50% accuracy. This point had C=0.0001, which is the lowest value we tried. Extremely low values of C should be avoided for this data."
   ]
  },
  {
   "cell_type": "code",
   "execution_count": 59,
   "metadata": {
    "scrolled": false
   },
   "outputs": [
    {
     "data": {
      "image/png": "[encoded data removed]",
      "text/plain": [
       "<Figure size 432x288 with 1 Axes>"
      ]
     },
     "metadata": {
      "needs_background": "light"
     },
     "output_type": "display_data"
    },
    {
     "name": "stdout",
     "output_type": "stream",
     "text": [
      "Model Accuracy 0.83644\n"
     ]
    }
   ],
   "source": [
    "best_logistic = LogisticRegression(\n",
    "    C = search_lr.best_params_['logistic__C'],\n",
    "    penalty=search_lr.best_params_['logistic__penalty'],\n",
    "    fit_intercept=True\n",
    ")\n",
    "best_logistic.fit(X_train, y_train.values.ravel())\n",
    "#cutoffs_lgrg_all, scores_lgrg_all = analyze_classifier(best_logistic, X_train,\n",
    "#                                                       X_test, y_train, y_test)\n",
    "matrix = ConfusionMatrix(best_logistic, classes=[0,1])\n",
    "matrix.fit(X_train, y_train['Response'])\n",
    "matrix.score(X_test, y_test['Response'])\n",
    "matrix.show()\n",
    "\n",
    "predict_logit_all = best_logistic.predict(X_test)\n",
    "prob_logit_all = best_logistic.predict_proba(X_test)\n",
    "acc_logit_all = round(accuracy_score(y_test, predict_logit_all), 5)\n",
    "print(f'Model Accuracy {acc_logit_all}')"
   ]
  },
  {
   "cell_type": "markdown",
   "metadata": {},
   "source": [
    "Here we are showing the confusion matrix for our best logistic model. It achieves an accuracy of 83.6% There seem to be more false positives than false negatives, but since the positive class ('Private Room') has more observations it doesn't seem surprising that the model would predict that class more often."
   ]
  },
  {
   "cell_type": "markdown",
   "metadata": {},
   "source": [
    "## Support Vector Machine"
   ]
  },
  {
   "cell_type": "code",
   "execution_count": 28,
   "metadata": {
    "scrolled": true
   },
   "outputs": [
    {
     "name": "stdout",
     "output_type": "stream",
     "text": [
      "Best parameter (Accuracy score=0.868):\n",
      "{'C': 10.0, 'gamma': 0.01, 'kernel': 'rbf'}\n"
     ]
    },
    {
     "data": {
      "text/html": [
       "<div>\n",
       "<style scoped>\n",
       "    .dataframe tbody tr th:only-of-type {\n",
       "        vertical-align: middle;\n",
       "    }\n",
       "\n",
       "    .dataframe tbody tr th {\n",
       "        vertical-align: top;\n",
       "    }\n",
       "\n",
       "    .dataframe thead th {\n",
       "        text-align: right;\n",
       "    }\n",
       "</style>\n",
       "<table border=\"1\" class=\"dataframe\">\n",
       "  <thead>\n",
       "    <tr style=\"text-align: right;\">\n",
       "      <th></th>\n",
       "      <th>mean_fit_time</th>\n",
       "      <th>std_fit_time</th>\n",
       "      <th>mean_score_time</th>\n",
       "      <th>std_score_time</th>\n",
       "      <th>param_C</th>\n",
       "      <th>param_gamma</th>\n",
       "      <th>param_kernel</th>\n",
       "      <th>params</th>\n",
       "      <th>split0_test_score</th>\n",
       "      <th>split1_test_score</th>\n",
       "      <th>split2_test_score</th>\n",
       "      <th>mean_test_score</th>\n",
       "      <th>std_test_score</th>\n",
       "      <th>rank_test_score</th>\n",
       "      <th>split0_train_score</th>\n",
       "      <th>split1_train_score</th>\n",
       "      <th>split2_train_score</th>\n",
       "      <th>mean_train_score</th>\n",
       "      <th>std_train_score</th>\n",
       "    </tr>\n",
       "  </thead>\n",
       "  <tbody>\n",
       "    <tr>\n",
       "      <th>0</th>\n",
       "      <td>86.285918</td>\n",
       "      <td>0.801971</td>\n",
       "      <td>17.961899</td>\n",
       "      <td>1.182865</td>\n",
       "      <td>0.0001</td>\n",
       "      <td>0.001</td>\n",
       "      <td>linear</td>\n",
       "      <td>{'C': 0.0001, 'gamma': 0.001, 'kernel': 'linear'}</td>\n",
       "      <td>0.778395</td>\n",
       "      <td>0.766785</td>\n",
       "      <td>0.768221</td>\n",
       "      <td>0.771134</td>\n",
       "      <td>0.005168</td>\n",
       "      <td>58</td>\n",
       "      <td>0.768174</td>\n",
       "      <td>0.771824</td>\n",
       "      <td>0.772399</td>\n",
       "      <td>0.770799</td>\n",
       "      <td>0.001871</td>\n",
       "    </tr>\n",
       "    <tr>\n",
       "      <th>1</th>\n",
       "      <td>131.795329</td>\n",
       "      <td>7.300214</td>\n",
       "      <td>19.313591</td>\n",
       "      <td>1.275649</td>\n",
       "      <td>0.0001</td>\n",
       "      <td>0.001</td>\n",
       "      <td>rbf</td>\n",
       "      <td>{'C': 0.0001, 'gamma': 0.001, 'kernel': 'rbf'}</td>\n",
       "      <td>0.519824</td>\n",
       "      <td>0.519874</td>\n",
       "      <td>0.519874</td>\n",
       "      <td>0.519857</td>\n",
       "      <td>0.000023</td>\n",
       "      <td>69</td>\n",
       "      <td>0.519874</td>\n",
       "      <td>0.519849</td>\n",
       "      <td>0.519849</td>\n",
       "      <td>0.519857</td>\n",
       "      <td>0.000012</td>\n",
       "    </tr>\n",
       "    <tr>\n",
       "      <th>2</th>\n",
       "      <td>86.014498</td>\n",
       "      <td>0.518270</td>\n",
       "      <td>15.584045</td>\n",
       "      <td>3.179215</td>\n",
       "      <td>0.0001</td>\n",
       "      <td>0.01</td>\n",
       "      <td>linear</td>\n",
       "      <td>{'C': 0.0001, 'gamma': 0.01, 'kernel': 'linear'}</td>\n",
       "      <td>0.778395</td>\n",
       "      <td>0.766785</td>\n",
       "      <td>0.768221</td>\n",
       "      <td>0.771134</td>\n",
       "      <td>0.005168</td>\n",
       "      <td>58</td>\n",
       "      <td>0.768174</td>\n",
       "      <td>0.771824</td>\n",
       "      <td>0.772399</td>\n",
       "      <td>0.770799</td>\n",
       "      <td>0.001871</td>\n",
       "    </tr>\n",
       "    <tr>\n",
       "      <th>3</th>\n",
       "      <td>133.882917</td>\n",
       "      <td>7.753661</td>\n",
       "      <td>19.660300</td>\n",
       "      <td>1.228103</td>\n",
       "      <td>0.0001</td>\n",
       "      <td>0.01</td>\n",
       "      <td>rbf</td>\n",
       "      <td>{'C': 0.0001, 'gamma': 0.01, 'kernel': 'rbf'}</td>\n",
       "      <td>0.519824</td>\n",
       "      <td>0.519874</td>\n",
       "      <td>0.519874</td>\n",
       "      <td>0.519857</td>\n",
       "      <td>0.000023</td>\n",
       "      <td>69</td>\n",
       "      <td>0.519874</td>\n",
       "      <td>0.519849</td>\n",
       "      <td>0.519849</td>\n",
       "      <td>0.519857</td>\n",
       "      <td>0.000012</td>\n",
       "    </tr>\n",
       "    <tr>\n",
       "      <th>4</th>\n",
       "      <td>86.592649</td>\n",
       "      <td>0.536066</td>\n",
       "      <td>13.730730</td>\n",
       "      <td>2.494483</td>\n",
       "      <td>0.0001</td>\n",
       "      <td>0.1</td>\n",
       "      <td>linear</td>\n",
       "      <td>{'C': 0.0001, 'gamma': 0.1, 'kernel': 'linear'}</td>\n",
       "      <td>0.778395</td>\n",
       "      <td>0.766785</td>\n",
       "      <td>0.768221</td>\n",
       "      <td>0.771134</td>\n",
       "      <td>0.005168</td>\n",
       "      <td>58</td>\n",
       "      <td>0.768174</td>\n",
       "      <td>0.771824</td>\n",
       "      <td>0.772399</td>\n",
       "      <td>0.770799</td>\n",
       "      <td>0.001871</td>\n",
       "    </tr>\n",
       "    <tr>\n",
       "      <th>...</th>\n",
       "      <td>...</td>\n",
       "      <td>...</td>\n",
       "      <td>...</td>\n",
       "      <td>...</td>\n",
       "      <td>...</td>\n",
       "      <td>...</td>\n",
       "      <td>...</td>\n",
       "      <td>...</td>\n",
       "      <td>...</td>\n",
       "      <td>...</td>\n",
       "      <td>...</td>\n",
       "      <td>...</td>\n",
       "      <td>...</td>\n",
       "      <td>...</td>\n",
       "      <td>...</td>\n",
       "      <td>...</td>\n",
       "      <td>...</td>\n",
       "      <td>...</td>\n",
       "      <td>...</td>\n",
       "    </tr>\n",
       "    <tr>\n",
       "      <th>75</th>\n",
       "      <td>40.944005</td>\n",
       "      <td>1.062397</td>\n",
       "      <td>3.295139</td>\n",
       "      <td>0.123763</td>\n",
       "      <td>10</td>\n",
       "      <td>0.01</td>\n",
       "      <td>rbf</td>\n",
       "      <td>{'C': 10.0, 'gamma': 0.01, 'kernel': 'rbf'}</td>\n",
       "      <td>0.871959</td>\n",
       "      <td>0.866488</td>\n",
       "      <td>0.865339</td>\n",
       "      <td>0.867929</td>\n",
       "      <td>0.002889</td>\n",
       "      <td>1</td>\n",
       "      <td>0.871372</td>\n",
       "      <td>0.872576</td>\n",
       "      <td>0.872911</td>\n",
       "      <td>0.872286</td>\n",
       "      <td>0.000661</td>\n",
       "    </tr>\n",
       "    <tr>\n",
       "      <th>76</th>\n",
       "      <td>137.544062</td>\n",
       "      <td>7.588269</td>\n",
       "      <td>1.921065</td>\n",
       "      <td>0.061043</td>\n",
       "      <td>10</td>\n",
       "      <td>0.1</td>\n",
       "      <td>linear</td>\n",
       "      <td>{'C': 10.0, 'gamma': 0.1, 'kernel': 'linear'}</td>\n",
       "      <td>0.838824</td>\n",
       "      <td>0.837755</td>\n",
       "      <td>0.835265</td>\n",
       "      <td>0.837281</td>\n",
       "      <td>0.001491</td>\n",
       "      <td>20</td>\n",
       "      <td>0.836845</td>\n",
       "      <td>0.836853</td>\n",
       "      <td>0.838194</td>\n",
       "      <td>0.837297</td>\n",
       "      <td>0.000634</td>\n",
       "    </tr>\n",
       "    <tr>\n",
       "      <th>77</th>\n",
       "      <td>66.027664</td>\n",
       "      <td>1.568375</td>\n",
       "      <td>3.639826</td>\n",
       "      <td>0.067012</td>\n",
       "      <td>10</td>\n",
       "      <td>0.1</td>\n",
       "      <td>rbf</td>\n",
       "      <td>{'C': 10.0, 'gamma': 0.1, 'kernel': 'rbf'}</td>\n",
       "      <td>0.865639</td>\n",
       "      <td>0.859113</td>\n",
       "      <td>0.862848</td>\n",
       "      <td>0.862534</td>\n",
       "      <td>0.002673</td>\n",
       "      <td>5</td>\n",
       "      <td>0.913753</td>\n",
       "      <td>0.914093</td>\n",
       "      <td>0.917157</td>\n",
       "      <td>0.915001</td>\n",
       "      <td>0.001531</td>\n",
       "    </tr>\n",
       "    <tr>\n",
       "      <th>78</th>\n",
       "      <td>122.836865</td>\n",
       "      <td>6.584762</td>\n",
       "      <td>1.500875</td>\n",
       "      <td>0.197916</td>\n",
       "      <td>10</td>\n",
       "      <td>1</td>\n",
       "      <td>linear</td>\n",
       "      <td>{'C': 10.0, 'gamma': 1, 'kernel': 'linear'}</td>\n",
       "      <td>0.838824</td>\n",
       "      <td>0.837755</td>\n",
       "      <td>0.835265</td>\n",
       "      <td>0.837281</td>\n",
       "      <td>0.001491</td>\n",
       "      <td>20</td>\n",
       "      <td>0.836845</td>\n",
       "      <td>0.836853</td>\n",
       "      <td>0.838194</td>\n",
       "      <td>0.837297</td>\n",
       "      <td>0.000634</td>\n",
       "    </tr>\n",
       "    <tr>\n",
       "      <th>79</th>\n",
       "      <td>124.796947</td>\n",
       "      <td>12.419679</td>\n",
       "      <td>4.040601</td>\n",
       "      <td>0.055130</td>\n",
       "      <td>10</td>\n",
       "      <td>1</td>\n",
       "      <td>rbf</td>\n",
       "      <td>{'C': 10.0, 'gamma': 1, 'kernel': 'rbf'}</td>\n",
       "      <td>0.815936</td>\n",
       "      <td>0.807011</td>\n",
       "      <td>0.809214</td>\n",
       "      <td>0.810720</td>\n",
       "      <td>0.003796</td>\n",
       "      <td>55</td>\n",
       "      <td>0.996408</td>\n",
       "      <td>0.996313</td>\n",
       "      <td>0.995786</td>\n",
       "      <td>0.996169</td>\n",
       "      <td>0.000274</td>\n",
       "    </tr>\n",
       "  </tbody>\n",
       "</table>\n",
       "<p>80 rows × 19 columns</p>\n",
       "</div>"
      ],
      "text/plain": [
       "    mean_fit_time  std_fit_time  mean_score_time  std_score_time param_C  \\\n",
       "0       86.285918      0.801971        17.961899        1.182865  0.0001   \n",
       "1      131.795329      7.300214        19.313591        1.275649  0.0001   \n",
       "2       86.014498      0.518270        15.584045        3.179215  0.0001   \n",
       "3      133.882917      7.753661        19.660300        1.228103  0.0001   \n",
       "4       86.592649      0.536066        13.730730        2.494483  0.0001   \n",
       "..            ...           ...              ...             ...     ...   \n",
       "75      40.944005      1.062397         3.295139        0.123763      10   \n",
       "76     137.544062      7.588269         1.921065        0.061043      10   \n",
       "77      66.027664      1.568375         3.639826        0.067012      10   \n",
       "78     122.836865      6.584762         1.500875        0.197916      10   \n",
       "79     124.796947     12.419679         4.040601        0.055130      10   \n",
       "\n",
       "   param_gamma param_kernel  \\\n",
       "0        0.001       linear   \n",
       "1        0.001          rbf   \n",
       "2         0.01       linear   \n",
       "3         0.01          rbf   \n",
       "4          0.1       linear   \n",
       "..         ...          ...   \n",
       "75        0.01          rbf   \n",
       "76         0.1       linear   \n",
       "77         0.1          rbf   \n",
       "78           1       linear   \n",
       "79           1          rbf   \n",
       "\n",
       "                                               params  split0_test_score  \\\n",
       "0   {'C': 0.0001, 'gamma': 0.001, 'kernel': 'linear'}           0.778395   \n",
       "1      {'C': 0.0001, 'gamma': 0.001, 'kernel': 'rbf'}           0.519824   \n",
       "2    {'C': 0.0001, 'gamma': 0.01, 'kernel': 'linear'}           0.778395   \n",
       "3       {'C': 0.0001, 'gamma': 0.01, 'kernel': 'rbf'}           0.519824   \n",
       "4     {'C': 0.0001, 'gamma': 0.1, 'kernel': 'linear'}           0.778395   \n",
       "..                                                ...                ...   \n",
       "75        {'C': 10.0, 'gamma': 0.01, 'kernel': 'rbf'}           0.871959   \n",
       "76      {'C': 10.0, 'gamma': 0.1, 'kernel': 'linear'}           0.838824   \n",
       "77         {'C': 10.0, 'gamma': 0.1, 'kernel': 'rbf'}           0.865639   \n",
       "78        {'C': 10.0, 'gamma': 1, 'kernel': 'linear'}           0.838824   \n",
       "79           {'C': 10.0, 'gamma': 1, 'kernel': 'rbf'}           0.815936   \n",
       "\n",
       "    split1_test_score  split2_test_score  mean_test_score  std_test_score  \\\n",
       "0            0.766785           0.768221         0.771134        0.005168   \n",
       "1            0.519874           0.519874         0.519857        0.000023   \n",
       "2            0.766785           0.768221         0.771134        0.005168   \n",
       "3            0.519874           0.519874         0.519857        0.000023   \n",
       "4            0.766785           0.768221         0.771134        0.005168   \n",
       "..                ...                ...              ...             ...   \n",
       "75           0.866488           0.865339         0.867929        0.002889   \n",
       "76           0.837755           0.835265         0.837281        0.001491   \n",
       "77           0.859113           0.862848         0.862534        0.002673   \n",
       "78           0.837755           0.835265         0.837281        0.001491   \n",
       "79           0.807011           0.809214         0.810720        0.003796   \n",
       "\n",
       "    rank_test_score  split0_train_score  split1_train_score  \\\n",
       "0                58            0.768174            0.771824   \n",
       "1                69            0.519874            0.519849   \n",
       "2                58            0.768174            0.771824   \n",
       "3                69            0.519874            0.519849   \n",
       "4                58            0.768174            0.771824   \n",
       "..              ...                 ...                 ...   \n",
       "75                1            0.871372            0.872576   \n",
       "76               20            0.836845            0.836853   \n",
       "77                5            0.913753            0.914093   \n",
       "78               20            0.836845            0.836853   \n",
       "79               55            0.996408            0.996313   \n",
       "\n",
       "    split2_train_score  mean_train_score  std_train_score  \n",
       "0             0.772399          0.770799         0.001871  \n",
       "1             0.519849          0.519857         0.000012  \n",
       "2             0.772399          0.770799         0.001871  \n",
       "3             0.519849          0.519857         0.000012  \n",
       "4             0.772399          0.770799         0.001871  \n",
       "..                 ...               ...              ...  \n",
       "75            0.872911          0.872286         0.000661  \n",
       "76            0.838194          0.837297         0.000634  \n",
       "77            0.917157          0.915001         0.001531  \n",
       "78            0.838194          0.837297         0.000634  \n",
       "79            0.995786          0.996169         0.000274  \n",
       "\n",
       "[80 rows x 19 columns]"
      ]
     },
     "execution_count": 28,
     "metadata": {},
     "output_type": "execute_result"
    }
   ],
   "source": [
    "### THIS TAKES LIKE 2 HOURS to RUN\n",
    "from sklearn.svm import SVC\n",
    "\n",
    "param_grid_svm = {\n",
    "    'C': np.logspace(-4, 1, 10),\n",
    "    'gamma': [0.001, 0.01, 0.1, 1],\n",
    "    'kernel': ['linear', 'rbf']\n",
    "}\n",
    "#search = GridSearchCV(SVC(), param_grid_svm, n_jobs=-1,error_score=0.0,scoring='accuracy')\n",
    "#search.fit(X_train, y_train.values.ravel())\n",
    "#print(\"Best parameter (Accuracy score=%0.3f):\" % search.best_score_)\n",
    "#print(search.best_params_)\n",
    "#results = pd.DataFrame(search.cv_results_)\n",
    "#results.sort_values(by='mean_test_score', ascending=False)"
   ]
  },
  {
   "cell_type": "markdown",
   "metadata": {},
   "source": [
    "Here  We are running a grid search over three different parameters: C, gamma, and kernel. The results are sorted by mean_test_score. Our best model used an rbf kernel with C= 0.0001 and gamma = 0.001. This procedure takes hours to run."
   ]
  },
  {
   "cell_type": "code",
   "execution_count": 60,
   "metadata": {},
   "outputs": [],
   "source": [
    "import pickle as pickle\n",
    "with open('svm_search.pkl', 'wb') as output:\n",
    "    pickle.dump(search, output, pickle.HIGHEST_PROTOCOL)\n"
   ]
  },
  {
   "cell_type": "markdown",
   "metadata": {},
   "source": [
    "This code is used to store the search output. Due to run time we don't want to run it every time we reload the notebook."
   ]
  },
  {
   "cell_type": "code",
   "execution_count": 61,
   "metadata": {},
   "outputs": [
    {
     "name": "stdout",
     "output_type": "stream",
     "text": [
      "Best parameter (Accuracy score=0.868):\n",
      "{'C': 10.0, 'gamma': 0.01, 'kernel': 'rbf'}\n"
     ]
    },
    {
     "data": {
      "text/html": [
       "<div>\n",
       "<style scoped>\n",
       "    .dataframe tbody tr th:only-of-type {\n",
       "        vertical-align: middle;\n",
       "    }\n",
       "\n",
       "    .dataframe tbody tr th {\n",
       "        vertical-align: top;\n",
       "    }\n",
       "\n",
       "    .dataframe thead th {\n",
       "        text-align: right;\n",
       "    }\n",
       "</style>\n",
       "<table border=\"1\" class=\"dataframe\">\n",
       "  <thead>\n",
       "    <tr style=\"text-align: right;\">\n",
       "      <th></th>\n",
       "      <th>mean_fit_time</th>\n",
       "      <th>std_fit_time</th>\n",
       "      <th>mean_score_time</th>\n",
       "      <th>std_score_time</th>\n",
       "      <th>param_C</th>\n",
       "      <th>param_gamma</th>\n",
       "      <th>param_kernel</th>\n",
       "      <th>params</th>\n",
       "      <th>split0_test_score</th>\n",
       "      <th>split1_test_score</th>\n",
       "      <th>split2_test_score</th>\n",
       "      <th>mean_test_score</th>\n",
       "      <th>std_test_score</th>\n",
       "      <th>rank_test_score</th>\n",
       "      <th>split0_train_score</th>\n",
       "      <th>split1_train_score</th>\n",
       "      <th>split2_train_score</th>\n",
       "      <th>mean_train_score</th>\n",
       "      <th>std_train_score</th>\n",
       "    </tr>\n",
       "  </thead>\n",
       "  <tbody>\n",
       "    <tr>\n",
       "      <th>75</th>\n",
       "      <td>40.944005</td>\n",
       "      <td>1.062397</td>\n",
       "      <td>3.295139</td>\n",
       "      <td>0.123763</td>\n",
       "      <td>10</td>\n",
       "      <td>0.01</td>\n",
       "      <td>rbf</td>\n",
       "      <td>{'C': 10.0, 'gamma': 0.01, 'kernel': 'rbf'}</td>\n",
       "      <td>0.871959</td>\n",
       "      <td>0.866488</td>\n",
       "      <td>0.865339</td>\n",
       "      <td>0.867929</td>\n",
       "      <td>0.002889</td>\n",
       "      <td>1</td>\n",
       "      <td>0.871372</td>\n",
       "      <td>0.872576</td>\n",
       "      <td>0.872911</td>\n",
       "      <td>0.872286</td>\n",
       "      <td>0.000661</td>\n",
       "    </tr>\n",
       "    <tr>\n",
       "      <th>61</th>\n",
       "      <td>58.556881</td>\n",
       "      <td>2.917216</td>\n",
       "      <td>3.826900</td>\n",
       "      <td>0.196379</td>\n",
       "      <td>0.774264</td>\n",
       "      <td>0.1</td>\n",
       "      <td>rbf</td>\n",
       "      <td>{'C': 0.7742636826811278, 'gamma': 0.1, 'kerne...</td>\n",
       "      <td>0.869278</td>\n",
       "      <td>0.864572</td>\n",
       "      <td>0.863806</td>\n",
       "      <td>0.865886</td>\n",
       "      <td>0.002419</td>\n",
       "      <td>2</td>\n",
       "      <td>0.881190</td>\n",
       "      <td>0.884164</td>\n",
       "      <td>0.884787</td>\n",
       "      <td>0.883380</td>\n",
       "      <td>0.001570</td>\n",
       "    </tr>\n",
       "    <tr>\n",
       "      <th>69</th>\n",
       "      <td>48.210175</td>\n",
       "      <td>0.546257</td>\n",
       "      <td>3.552951</td>\n",
       "      <td>0.172671</td>\n",
       "      <td>2.78256</td>\n",
       "      <td>0.1</td>\n",
       "      <td>rbf</td>\n",
       "      <td>{'C': 2.782559402207126, 'gamma': 0.1, 'kernel...</td>\n",
       "      <td>0.871768</td>\n",
       "      <td>0.861699</td>\n",
       "      <td>0.863615</td>\n",
       "      <td>0.865694</td>\n",
       "      <td>0.004366</td>\n",
       "      <td>3</td>\n",
       "      <td>0.895317</td>\n",
       "      <td>0.899248</td>\n",
       "      <td>0.899823</td>\n",
       "      <td>0.898129</td>\n",
       "      <td>0.002003</td>\n",
       "    </tr>\n",
       "    <tr>\n",
       "      <th>67</th>\n",
       "      <td>40.187945</td>\n",
       "      <td>1.070304</td>\n",
       "      <td>3.852338</td>\n",
       "      <td>0.044662</td>\n",
       "      <td>2.78256</td>\n",
       "      <td>0.01</td>\n",
       "      <td>rbf</td>\n",
       "      <td>{'C': 2.782559402207126, 'gamma': 0.01, 'kerne...</td>\n",
       "      <td>0.866118</td>\n",
       "      <td>0.864477</td>\n",
       "      <td>0.861891</td>\n",
       "      <td>0.864162</td>\n",
       "      <td>0.001740</td>\n",
       "      <td>4</td>\n",
       "      <td>0.866632</td>\n",
       "      <td>0.868075</td>\n",
       "      <td>0.868170</td>\n",
       "      <td>0.867625</td>\n",
       "      <td>0.000704</td>\n",
       "    </tr>\n",
       "    <tr>\n",
       "      <th>77</th>\n",
       "      <td>66.027664</td>\n",
       "      <td>1.568375</td>\n",
       "      <td>3.639826</td>\n",
       "      <td>0.067012</td>\n",
       "      <td>10</td>\n",
       "      <td>0.1</td>\n",
       "      <td>rbf</td>\n",
       "      <td>{'C': 10.0, 'gamma': 0.1, 'kernel': 'rbf'}</td>\n",
       "      <td>0.865639</td>\n",
       "      <td>0.859113</td>\n",
       "      <td>0.862848</td>\n",
       "      <td>0.862534</td>\n",
       "      <td>0.002673</td>\n",
       "      <td>5</td>\n",
       "      <td>0.913753</td>\n",
       "      <td>0.914093</td>\n",
       "      <td>0.917157</td>\n",
       "      <td>0.915001</td>\n",
       "      <td>0.001531</td>\n",
       "    </tr>\n",
       "    <tr>\n",
       "      <th>...</th>\n",
       "      <td>...</td>\n",
       "      <td>...</td>\n",
       "      <td>...</td>\n",
       "      <td>...</td>\n",
       "      <td>...</td>\n",
       "      <td>...</td>\n",
       "      <td>...</td>\n",
       "      <td>...</td>\n",
       "      <td>...</td>\n",
       "      <td>...</td>\n",
       "      <td>...</td>\n",
       "      <td>...</td>\n",
       "      <td>...</td>\n",
       "      <td>...</td>\n",
       "      <td>...</td>\n",
       "      <td>...</td>\n",
       "      <td>...</td>\n",
       "      <td>...</td>\n",
       "      <td>...</td>\n",
       "    </tr>\n",
       "    <tr>\n",
       "      <th>7</th>\n",
       "      <td>122.636578</td>\n",
       "      <td>0.664448</td>\n",
       "      <td>19.521333</td>\n",
       "      <td>0.147479</td>\n",
       "      <td>0.0001</td>\n",
       "      <td>1</td>\n",
       "      <td>rbf</td>\n",
       "      <td>{'C': 0.0001, 'gamma': 1, 'kernel': 'rbf'}</td>\n",
       "      <td>0.519824</td>\n",
       "      <td>0.519874</td>\n",
       "      <td>0.519874</td>\n",
       "      <td>0.519857</td>\n",
       "      <td>0.000023</td>\n",
       "      <td>69</td>\n",
       "      <td>0.519874</td>\n",
       "      <td>0.519849</td>\n",
       "      <td>0.519849</td>\n",
       "      <td>0.519857</td>\n",
       "      <td>0.000012</td>\n",
       "    </tr>\n",
       "    <tr>\n",
       "      <th>31</th>\n",
       "      <td>123.320166</td>\n",
       "      <td>2.168576</td>\n",
       "      <td>14.422714</td>\n",
       "      <td>0.180427</td>\n",
       "      <td>0.00464159</td>\n",
       "      <td>1</td>\n",
       "      <td>rbf</td>\n",
       "      <td>{'C': 0.004641588833612782, 'gamma': 1, 'kerne...</td>\n",
       "      <td>0.519824</td>\n",
       "      <td>0.519874</td>\n",
       "      <td>0.519874</td>\n",
       "      <td>0.519857</td>\n",
       "      <td>0.000023</td>\n",
       "      <td>69</td>\n",
       "      <td>0.519874</td>\n",
       "      <td>0.519849</td>\n",
       "      <td>0.519849</td>\n",
       "      <td>0.519857</td>\n",
       "      <td>0.000012</td>\n",
       "    </tr>\n",
       "    <tr>\n",
       "      <th>5</th>\n",
       "      <td>150.486858</td>\n",
       "      <td>5.261486</td>\n",
       "      <td>18.790198</td>\n",
       "      <td>1.820260</td>\n",
       "      <td>0.0001</td>\n",
       "      <td>0.1</td>\n",
       "      <td>rbf</td>\n",
       "      <td>{'C': 0.0001, 'gamma': 0.1, 'kernel': 'rbf'}</td>\n",
       "      <td>0.519824</td>\n",
       "      <td>0.519874</td>\n",
       "      <td>0.519874</td>\n",
       "      <td>0.519857</td>\n",
       "      <td>0.000023</td>\n",
       "      <td>69</td>\n",
       "      <td>0.519874</td>\n",
       "      <td>0.519849</td>\n",
       "      <td>0.519849</td>\n",
       "      <td>0.519857</td>\n",
       "      <td>0.000012</td>\n",
       "    </tr>\n",
       "    <tr>\n",
       "      <th>3</th>\n",
       "      <td>133.882917</td>\n",
       "      <td>7.753661</td>\n",
       "      <td>19.660300</td>\n",
       "      <td>1.228103</td>\n",
       "      <td>0.0001</td>\n",
       "      <td>0.01</td>\n",
       "      <td>rbf</td>\n",
       "      <td>{'C': 0.0001, 'gamma': 0.01, 'kernel': 'rbf'}</td>\n",
       "      <td>0.519824</td>\n",
       "      <td>0.519874</td>\n",
       "      <td>0.519874</td>\n",
       "      <td>0.519857</td>\n",
       "      <td>0.000023</td>\n",
       "      <td>69</td>\n",
       "      <td>0.519874</td>\n",
       "      <td>0.519849</td>\n",
       "      <td>0.519849</td>\n",
       "      <td>0.519857</td>\n",
       "      <td>0.000012</td>\n",
       "    </tr>\n",
       "    <tr>\n",
       "      <th>1</th>\n",
       "      <td>131.795329</td>\n",
       "      <td>7.300214</td>\n",
       "      <td>19.313591</td>\n",
       "      <td>1.275649</td>\n",
       "      <td>0.0001</td>\n",
       "      <td>0.001</td>\n",
       "      <td>rbf</td>\n",
       "      <td>{'C': 0.0001, 'gamma': 0.001, 'kernel': 'rbf'}</td>\n",
       "      <td>0.519824</td>\n",
       "      <td>0.519874</td>\n",
       "      <td>0.519874</td>\n",
       "      <td>0.519857</td>\n",
       "      <td>0.000023</td>\n",
       "      <td>69</td>\n",
       "      <td>0.519874</td>\n",
       "      <td>0.519849</td>\n",
       "      <td>0.519849</td>\n",
       "      <td>0.519857</td>\n",
       "      <td>0.000012</td>\n",
       "    </tr>\n",
       "  </tbody>\n",
       "</table>\n",
       "<p>80 rows × 19 columns</p>\n",
       "</div>"
      ],
      "text/plain": [
       "    mean_fit_time  std_fit_time  mean_score_time  std_score_time     param_C  \\\n",
       "75      40.944005      1.062397         3.295139        0.123763          10   \n",
       "61      58.556881      2.917216         3.826900        0.196379    0.774264   \n",
       "69      48.210175      0.546257         3.552951        0.172671     2.78256   \n",
       "67      40.187945      1.070304         3.852338        0.044662     2.78256   \n",
       "77      66.027664      1.568375         3.639826        0.067012          10   \n",
       "..            ...           ...              ...             ...         ...   \n",
       "7      122.636578      0.664448        19.521333        0.147479      0.0001   \n",
       "31     123.320166      2.168576        14.422714        0.180427  0.00464159   \n",
       "5      150.486858      5.261486        18.790198        1.820260      0.0001   \n",
       "3      133.882917      7.753661        19.660300        1.228103      0.0001   \n",
       "1      131.795329      7.300214        19.313591        1.275649      0.0001   \n",
       "\n",
       "   param_gamma param_kernel  \\\n",
       "75        0.01          rbf   \n",
       "61         0.1          rbf   \n",
       "69         0.1          rbf   \n",
       "67        0.01          rbf   \n",
       "77         0.1          rbf   \n",
       "..         ...          ...   \n",
       "7            1          rbf   \n",
       "31           1          rbf   \n",
       "5          0.1          rbf   \n",
       "3         0.01          rbf   \n",
       "1        0.001          rbf   \n",
       "\n",
       "                                               params  split0_test_score  \\\n",
       "75        {'C': 10.0, 'gamma': 0.01, 'kernel': 'rbf'}           0.871959   \n",
       "61  {'C': 0.7742636826811278, 'gamma': 0.1, 'kerne...           0.869278   \n",
       "69  {'C': 2.782559402207126, 'gamma': 0.1, 'kernel...           0.871768   \n",
       "67  {'C': 2.782559402207126, 'gamma': 0.01, 'kerne...           0.866118   \n",
       "77         {'C': 10.0, 'gamma': 0.1, 'kernel': 'rbf'}           0.865639   \n",
       "..                                                ...                ...   \n",
       "7          {'C': 0.0001, 'gamma': 1, 'kernel': 'rbf'}           0.519824   \n",
       "31  {'C': 0.004641588833612782, 'gamma': 1, 'kerne...           0.519824   \n",
       "5        {'C': 0.0001, 'gamma': 0.1, 'kernel': 'rbf'}           0.519824   \n",
       "3       {'C': 0.0001, 'gamma': 0.01, 'kernel': 'rbf'}           0.519824   \n",
       "1      {'C': 0.0001, 'gamma': 0.001, 'kernel': 'rbf'}           0.519824   \n",
       "\n",
       "    split1_test_score  split2_test_score  mean_test_score  std_test_score  \\\n",
       "75           0.866488           0.865339         0.867929        0.002889   \n",
       "61           0.864572           0.863806         0.865886        0.002419   \n",
       "69           0.861699           0.863615         0.865694        0.004366   \n",
       "67           0.864477           0.861891         0.864162        0.001740   \n",
       "77           0.859113           0.862848         0.862534        0.002673   \n",
       "..                ...                ...              ...             ...   \n",
       "7            0.519874           0.519874         0.519857        0.000023   \n",
       "31           0.519874           0.519874         0.519857        0.000023   \n",
       "5            0.519874           0.519874         0.519857        0.000023   \n",
       "3            0.519874           0.519874         0.519857        0.000023   \n",
       "1            0.519874           0.519874         0.519857        0.000023   \n",
       "\n",
       "    rank_test_score  split0_train_score  split1_train_score  \\\n",
       "75                1            0.871372            0.872576   \n",
       "61                2            0.881190            0.884164   \n",
       "69                3            0.895317            0.899248   \n",
       "67                4            0.866632            0.868075   \n",
       "77                5            0.913753            0.914093   \n",
       "..              ...                 ...                 ...   \n",
       "7                69            0.519874            0.519849   \n",
       "31               69            0.519874            0.519849   \n",
       "5                69            0.519874            0.519849   \n",
       "3                69            0.519874            0.519849   \n",
       "1                69            0.519874            0.519849   \n",
       "\n",
       "    split2_train_score  mean_train_score  std_train_score  \n",
       "75            0.872911          0.872286         0.000661  \n",
       "61            0.884787          0.883380         0.001570  \n",
       "69            0.899823          0.898129         0.002003  \n",
       "67            0.868170          0.867625         0.000704  \n",
       "77            0.917157          0.915001         0.001531  \n",
       "..                 ...               ...              ...  \n",
       "7             0.519849          0.519857         0.000012  \n",
       "31            0.519849          0.519857         0.000012  \n",
       "5             0.519849          0.519857         0.000012  \n",
       "3             0.519849          0.519857         0.000012  \n",
       "1             0.519849          0.519857         0.000012  \n",
       "\n",
       "[80 rows x 19 columns]"
      ]
     },
     "execution_count": 61,
     "metadata": {},
     "output_type": "execute_result"
    }
   ],
   "source": [
    "import pickle as pickle\n",
    "with open('svm_search.pkl', 'rb') as input:\n",
    "    search = pickle.load(input)\n",
    "print(\"Best parameter (Accuracy score=%0.3f):\" % search.best_score_)\n",
    "print(search.best_params_)\n",
    "results = pd.DataFrame(search.cv_results_)\n",
    "results.sort_values(by='mean_test_score', ascending=False)"
   ]
  },
  {
   "cell_type": "markdown",
   "metadata": {},
   "source": [
    "This chunk prints the results after loading the search object. This is used if we don't want to re-run the grid search."
   ]
  },
  {
   "cell_type": "code",
   "execution_count": 65,
   "metadata": {
    "scrolled": true
   },
   "outputs": [
    {
     "data": {
      "image/png": "[encoded data removed]",
      "text/plain": [
       "<Figure size 432x288 with 1 Axes>"
      ]
     },
     "metadata": {
      "needs_background": "light"
     },
     "output_type": "display_data"
    }
   ],
   "source": [
    "results2 = results[results.mean_test_score > 0]\n",
    "#sns.set(style='darkgrid')\n",
    "svmP1 = sns.lineplot(x=\"param_C\", y=\"mean_test_score\", data=results2, ci=None)"
   ]
  },
  {
   "cell_type": "markdown",
   "metadata": {},
   "source": [
    "Here we can see accuracy for different values of C. There is not much accuracy improvement above C=1"
   ]
  },
  {
   "cell_type": "code",
   "execution_count": 66,
   "metadata": {
    "scrolled": true
   },
   "outputs": [
    {
     "name": "stdout",
     "output_type": "stream",
     "text": [
      "AxesSubplot(0.125,0.125;0.775x0.755)\n"
     ]
    },
    {
     "data": {
      "image/png": "[encoded data removed]",
      "text/plain": [
       "<Figure size 432x288 with 1 Axes>"
      ]
     },
     "metadata": {
      "needs_background": "light"
     },
     "output_type": "display_data"
    }
   ],
   "source": [
    "svmP2 = sns.lineplot(x=\"param_gamma\", y=\"mean_test_score\", data=results2, ci=None)\n",
    "print(svmP2)"
   ]
  },
  {
   "cell_type": "markdown",
   "metadata": {},
   "source": [
    "This chart is showing accuracy at different levels of gamma. Values of gamma less than 0.2 perform the best, then decline steadily as we approach gamma=1"
   ]
  },
  {
   "cell_type": "code",
   "execution_count": 101,
   "metadata": {},
   "outputs": [
    {
     "name": "stdout",
     "output_type": "stream",
     "text": [
      "AxesSubplot(0.125,0.125;0.775x0.755)\n"
     ]
    },
    {
     "data": {
      "image/png": "[encoded data removed]",
      "text/plain": [
       "<Figure size 432x288 with 1 Axes>"
      ]
     },
     "metadata": {
      "needs_background": "light"
     },
     "output_type": "display_data"
    }
   ],
   "source": [
    "svmP3 = sns.boxplot(x=\"param_kernel\", y=\"mean_test_score\", data=results2)\n",
    "print(svmP3)"
   ]
  },
  {
   "cell_type": "markdown",
   "metadata": {},
   "source": [
    "The linear kernel performs well and is very consistant. The rbf kernel has the best overall accuracy but it is not consistant, with its lowest values approaching our baseline accuracy."
   ]
  },
  {
   "cell_type": "code",
   "execution_count": 123,
   "metadata": {
    "scrolled": true
   },
   "outputs": [
    {
     "name": "stdout",
     "output_type": "stream",
     "text": [
      "AxesSubplot(0.125,0.125;0.775x0.755)\n"
     ]
    },
    {
     "data": {
      "image/png": "[encoded data removed]",
      "text/plain": [
       "<Figure size 432x288 with 1 Axes>"
      ]
     },
     "metadata": {
      "needs_background": "light"
     },
     "output_type": "display_data"
    }
   ],
   "source": [
    "svmP4= sns.boxplot(x=\"param_kernel\", y=\"mean_fit_time\", data=results2)\n",
    "print(svmP4)"
   ]
  },
  {
   "cell_type": "markdown",
   "metadata": {},
   "source": [
    "The linear kernel takes less time to train than the rbf kernel. Depending on the application, the extra time may not be worth the small gains in accuracy."
   ]
  },
  {
   "cell_type": "code",
   "execution_count": 71,
   "metadata": {},
   "outputs": [
    {
     "data": {
      "image/png": "[encoded data removed]",
      "text/plain": [
       "<Figure size 432x288 with 1 Axes>"
      ]
     },
     "metadata": {
      "needs_background": "light"
     },
     "output_type": "display_data"
    },
    {
     "name": "stdout",
     "output_type": "stream",
     "text": [
      "Model Accuracy 0.8667\n"
     ]
    }
   ],
   "source": [
    "best_svm = SVC(\n",
    "    C = search.best_params_['C'],\n",
    "    gamma=search.best_params_['gamma'],\n",
    "    kernel=search.best_params_['kernel']\n",
    ")\n",
    "best_svm.fit(X_train, y_train.values.ravel())\n",
    "#cutoffs_lgrg_all, scores_lgrg_all = analyze_classifier(best_logistic, X_train,\n",
    "#                                                       X_test, y_train, y_test)\n",
    "matrix = ConfusionMatrix(best_svm, classes=[0,1])\n",
    "matrix.fit(X_train, y_train['Response'])\n",
    "matrix.score(X_test, y_test['Response'])\n",
    "matrix.show()\n",
    "\n",
    "predict_svm = best_svm.predict(X_test)\n",
    "#prob_logit_all = best_svm.predict_proba(X_test)\n",
    "acc_svm = round(accuracy_score(y_test, predict_svm), 5)\n",
    "print(f'Model Accuracy {acc_svm}')"
   ]
  },
  {
   "cell_type": "markdown",
   "metadata": {},
   "source": [
    "The best svm model achieved 86.67% Accuracy. It had more balanced false positive/negatives than logistic regression"
   ]
  },
  {
   "cell_type": "markdown",
   "metadata": {},
   "source": [
    "<a id=\"ModelAdvantages\"></a>\n",
    "# Model Advantages"
   ]
  },
  {
   "cell_type": "markdown",
   "metadata": {},
   "source": [
    "[10] Discuss the advantages of each model for each classification task. Does one type of model offer superior performance over another in terms of prediction accuracy? In terms of training time or efficiency? Explain in detail."
   ]
  },
  {
   "cell_type": "markdown",
   "metadata": {},
   "source": [
    "On Accuracy, SVM was most accurate with the best model achieving 86.67% accuracy vs 83.64% for logistic regression. That said, SVM was less consistant when using the rbf kernel, with many lower scores. Logistic regression was more consistant over parameters we searched. The linear kernel for SVM achieved accuracy similar to that of logistic regression."
   ]
  },
  {
   "cell_type": "code",
   "execution_count": 121,
   "metadata": {
    "scrolled": true
   },
   "outputs": [
    {
     "data": {
      "text/plain": [
       "[(0.45, 1), Text(0.5, 1.0, 'LogisticRegression')]"
      ]
     },
     "execution_count": 121,
     "metadata": {},
     "output_type": "execute_result"
    },
    {
     "data": {
      "image/png": "[encoded data removed]",
      "text/plain": [
       "<Figure size 432x288 with 2 Axes>"
      ]
     },
     "metadata": {
      "needs_background": "light"
     },
     "output_type": "display_data"
    }
   ],
   "source": [
    "from IPython.display import display\n",
    "%matplotlib inline\n",
    "fig, axs = plt.subplots(ncols=2)\n",
    "sns.boxplot(x=\"param_kernel\", y=\"mean_test_score\", data=results2,ax=axs[0]).set(ylim=(0.45,1), title='SVM')\n",
    "sns.boxplot(x=\"param_logistic__penalty\", y=\"mean_test_score\", data=results_lr,ax=axs[1]).set(ylim=(0.45,1), title='LogisticRegression')\n"
   ]
  },
  {
   "cell_type": "markdown",
   "metadata": {},
   "source": [
    "On the left you have the accuracy for the SVM kernels, on the right you have the logistic regression accuracy. You can see that SVM using RBF has the highest accuracy but also has a lot of low accuracy variations. Logistic Regression does very well, the outlier has a very low C value which was mentioned in a previous section."
   ]
  },
  {
   "cell_type": "markdown",
   "metadata": {},
   "source": [
    "On Training Time / Efficiency, logistic performed much better. The grid search for logistic regression took under a minute, where the SVM grid search often takes between 30 minutes and 2 hours depending on the grid space, and could easily take more if we expanded it. \n"
   ]
  },
  {
   "cell_type": "code",
   "execution_count": 125,
   "metadata": {
    "scrolled": false
   },
   "outputs": [
    {
     "data": {
      "text/plain": [
       "[(0, 300), Text(0.5, 1.0, 'LogisticRegression')]"
      ]
     },
     "execution_count": 125,
     "metadata": {},
     "output_type": "execute_result"
    },
    {
     "data": {
      "image/png": "[encoded data removed]",
      "text/plain": [
       "<Figure size 432x288 with 2 Axes>"
      ]
     },
     "metadata": {
      "needs_background": "light"
     },
     "output_type": "display_data"
    }
   ],
   "source": [
    "from IPython.display import display\n",
    "%matplotlib inline\n",
    "fig, axs = plt.subplots(ncols=2)\n",
    "sns.boxplot(x=\"param_kernel\", y=\"mean_fit_time\", data=results2,ax=axs[0]).set(ylim=(0,300), title='SVM')\n",
    "sns.boxplot(x=\"param_logistic__penalty\", y=\"mean_fit_time\", data=results_lr,ax=axs[1]).set(ylim=(0,300), title='LogisticRegression')\n"
   ]
  },
  {
   "cell_type": "markdown",
   "metadata": {},
   "source": [
    "You can clearly see the difference in training times between Logistic Regression and SVM. Clearly in terms of time, Logistic Regression is a clear winner"
   ]
  },
  {
   "cell_type": "markdown",
   "metadata": {},
   "source": [
    "<a id=\"InterpretFeatureImportance\"></a>\n",
    "# Interpret Feature Importance"
   ]
  },
  {
   "cell_type": "markdown",
   "metadata": {},
   "source": [
    "[30] Use the weights from logistic regression to interpret the importance of different features for the classification task. Explain your interpretation in detail. Why do you think some variables are more important?"
   ]
  },
  {
   "cell_type": "code",
   "execution_count": 156,
   "metadata": {},
   "outputs": [
    {
     "data": {
      "text/html": [
       "<div>\n",
       "<style scoped>\n",
       "    .dataframe tbody tr th:only-of-type {\n",
       "        vertical-align: middle;\n",
       "    }\n",
       "\n",
       "    .dataframe tbody tr th {\n",
       "        vertical-align: top;\n",
       "    }\n",
       "\n",
       "    .dataframe thead th {\n",
       "        text-align: right;\n",
       "    }\n",
       "</style>\n",
       "<table border=\"1\" class=\"dataframe\">\n",
       "  <thead>\n",
       "    <tr style=\"text-align: right;\">\n",
       "      <th></th>\n",
       "      <th>OddsRatio</th>\n",
       "      <th>OddsChangePerUnitIncrease</th>\n",
       "    </tr>\n",
       "  </thead>\n",
       "  <tbody>\n",
       "    <tr>\n",
       "      <th>price</th>\n",
       "      <td>-2.576627</td>\n",
       "      <td>-0.923970</td>\n",
       "    </tr>\n",
       "    <tr>\n",
       "      <th>neighbourhood_group_Staten Island</th>\n",
       "      <td>-2.037791</td>\n",
       "      <td>-0.869684</td>\n",
       "    </tr>\n",
       "    <tr>\n",
       "      <th>availability_365</th>\n",
       "      <td>0.545080</td>\n",
       "      <td>0.724747</td>\n",
       "    </tr>\n",
       "    <tr>\n",
       "      <th>cnt_private_room</th>\n",
       "      <td>0.532901</td>\n",
       "      <td>0.703869</td>\n",
       "    </tr>\n",
       "    <tr>\n",
       "      <th>neighbourhood_group_Brooklyn</th>\n",
       "      <td>-0.399958</td>\n",
       "      <td>-0.329652</td>\n",
       "    </tr>\n",
       "    <tr>\n",
       "      <th>avgprice_private_room</th>\n",
       "      <td>0.368856</td>\n",
       "      <td>0.446079</td>\n",
       "    </tr>\n",
       "    <tr>\n",
       "      <th>minimum_nights</th>\n",
       "      <td>-0.362149</td>\n",
       "      <td>-0.303822</td>\n",
       "    </tr>\n",
       "    <tr>\n",
       "      <th>longitude</th>\n",
       "      <td>-0.290102</td>\n",
       "      <td>-0.251812</td>\n",
       "    </tr>\n",
       "    <tr>\n",
       "      <th>cnt_entire_home</th>\n",
       "      <td>-0.288023</td>\n",
       "      <td>-0.250255</td>\n",
       "    </tr>\n",
       "    <tr>\n",
       "      <th>days_since_last_review</th>\n",
       "      <td>0.274428</td>\n",
       "      <td>0.315778</td>\n",
       "    </tr>\n",
       "    <tr>\n",
       "      <th>neighbourhood_group_Manhattan</th>\n",
       "      <td>0.229321</td>\n",
       "      <td>0.257746</td>\n",
       "    </tr>\n",
       "    <tr>\n",
       "      <th>avgprice_entire_home</th>\n",
       "      <td>0.176532</td>\n",
       "      <td>0.193073</td>\n",
       "    </tr>\n",
       "    <tr>\n",
       "      <th>neighbourhood_group_Queens</th>\n",
       "      <td>0.156581</td>\n",
       "      <td>0.169505</td>\n",
       "    </tr>\n",
       "    <tr>\n",
       "      <th>neighbourhood_group_Bronx</th>\n",
       "      <td>-0.145589</td>\n",
       "      <td>-0.135487</td>\n",
       "    </tr>\n",
       "    <tr>\n",
       "      <th>number_of_reviews</th>\n",
       "      <td>-0.106614</td>\n",
       "      <td>-0.101127</td>\n",
       "    </tr>\n",
       "    <tr>\n",
       "      <th>calculated_host_listings_count</th>\n",
       "      <td>0.084505</td>\n",
       "      <td>0.088178</td>\n",
       "    </tr>\n",
       "    <tr>\n",
       "      <th>dist_subway</th>\n",
       "      <td>0.073341</td>\n",
       "      <td>0.076097</td>\n",
       "    </tr>\n",
       "    <tr>\n",
       "      <th>avgprice_all</th>\n",
       "      <td>-0.056474</td>\n",
       "      <td>-0.054909</td>\n",
       "    </tr>\n",
       "    <tr>\n",
       "      <th>cnt_shared_room</th>\n",
       "      <td>0.055502</td>\n",
       "      <td>0.057071</td>\n",
       "    </tr>\n",
       "    <tr>\n",
       "      <th>reviews_per_month</th>\n",
       "      <td>-0.033946</td>\n",
       "      <td>-0.033376</td>\n",
       "    </tr>\n",
       "    <tr>\n",
       "      <th>avgprice_shared_room</th>\n",
       "      <td>-0.020842</td>\n",
       "      <td>-0.020626</td>\n",
       "    </tr>\n",
       "    <tr>\n",
       "      <th>latitude</th>\n",
       "      <td>0.006184</td>\n",
       "      <td>0.006203</td>\n",
       "    </tr>\n",
       "    <tr>\n",
       "      <th>cnt_all</th>\n",
       "      <td>0.000000</td>\n",
       "      <td>0.000000</td>\n",
       "    </tr>\n",
       "  </tbody>\n",
       "</table>\n",
       "</div>"
      ],
      "text/plain": [
       "                                   OddsRatio  OddsChangePerUnitIncrease\n",
       "price                              -2.576627                  -0.923970\n",
       "neighbourhood_group_Staten Island  -2.037791                  -0.869684\n",
       "availability_365                    0.545080                   0.724747\n",
       "cnt_private_room                    0.532901                   0.703869\n",
       "neighbourhood_group_Brooklyn       -0.399958                  -0.329652\n",
       "avgprice_private_room               0.368856                   0.446079\n",
       "minimum_nights                     -0.362149                  -0.303822\n",
       "longitude                          -0.290102                  -0.251812\n",
       "cnt_entire_home                    -0.288023                  -0.250255\n",
       "days_since_last_review              0.274428                   0.315778\n",
       "neighbourhood_group_Manhattan       0.229321                   0.257746\n",
       "avgprice_entire_home                0.176532                   0.193073\n",
       "neighbourhood_group_Queens          0.156581                   0.169505\n",
       "neighbourhood_group_Bronx          -0.145589                  -0.135487\n",
       "number_of_reviews                  -0.106614                  -0.101127\n",
       "calculated_host_listings_count      0.084505                   0.088178\n",
       "dist_subway                         0.073341                   0.076097\n",
       "avgprice_all                       -0.056474                  -0.054909\n",
       "cnt_shared_room                     0.055502                   0.057071\n",
       "reviews_per_month                  -0.033946                  -0.033376\n",
       "avgprice_shared_room               -0.020842                  -0.020626\n",
       "latitude                            0.006184                   0.006203\n",
       "cnt_all                             0.000000                   0.000000"
      ]
     },
     "execution_count": 156,
     "metadata": {},
     "output_type": "execute_result"
    }
   ],
   "source": [
    "odds = pd.DataFrame(best_logistic.coef_[0], index=X_train.columns).rename(columns={0:'OddsRatio'})\n",
    "odds['OddsChangePerUnitIncrease'] = np.exp(odds.OddsRatio) - 1\n",
    "odds.reindex(odds.OddsRatio.abs().sort_values(ascending=False).index)"
   ]
  },
  {
   "cell_type": "markdown",
   "metadata": {},
   "source": [
    "https://stats.idre.ucla.edu/other/mult-pkg/faq/general/faq-how-do-i-interpret-odds-ratios-in-logistic-regression/\n",
    "\n",
    "Regression coefficients in LogisticRegression are the log odds of predicting True/1/Positive class ('Private Room') over False/0/Negative ('Entire Home/Apt') class. In this case, any feature that has a negative OddsRatio (Beta) will tilt the prediction towards the negative class by the amount exp^Beta-1.\n",
    "\n",
    "#### Continuous:\n",
    "A one unit increase in the z-score of ‘price’ increases the likelihood of predicting the negative class ('Entire Home/Apt') by 92%. Intuitively, this makes sense as it is more expensive to rent an entire home than a private room in a shared home. Additional continuous features associated with z-score value increases resulting in predictions towards the negative class include ‘minimum_nights’, ‘longitude’, ‘cnt_entire_home’, ‘number_of_reviews’, ‘avgprice_all’, ‘reviews_per_month’, and ‘avgprice_shared_room’. These features are listed based on their ranking in terms of importance. \n",
    "\n",
    "For ‘minimum_nights’, a one unit increase in the z-score increases the likelihood of predicting the negative class by 30%. This seems reasonable due to the costs and time needed for cleaning with turnover of guests. \n",
    "\n",
    "For the ‘longitude’ feature, a one unit increase in the z-score increases the likelihood of predicting the negative class by 25%. Longitude increases in the northbound direction. With a larger concentration of units located in Manhattan, we can assume more rental units of the entire home are listed in upper Manhattan vs. Lower Manhattan. \n",
    "\n",
    "A one unit increase in the z-score for the ‘cnt_entire_home’ feature increases the likelihood of predicting the negative class by 25%. This feature indicates the number of units classified as entire home within the closest 1 million square feet of area of the rental unit. This association is obvious since we would expect rental units of the same room type to cluster together. \n",
    "\n",
    "For each one unit increase in the z-score for ‘number_of_reviews’, the increased likelihood of predicting the negative class is 10%. We could assume that renters are more comfortable leaving reviews for entire homes since there was limited contact with owners. \n",
    "\n",
    "A one unit increase in the z-score of ‘avgprice_all’ increases the likelihood of predicting the negative class by 5%. This feature indicates the average price of nearby units (closest 1 million square feet) and is obvious for the same reasons as the ‘price’ feature. \n",
    "\n",
    "For ‘reviews_per_month’, each one unit increase in the z-score increases the likelihood of predicting the negative class by 3%.  This feature is likely associated with entire home for the same reason as the ‘number_of_reviews’ feature. Finally, for each one unit increase in the z-score for ‘avgprice_shared_room’, the likelihood of predicting the negative class increases by 2%. \n",
    "\n",
    "The ‘availability_365’ feature is a continuous predictor that tilts predictions towards the positive class (‘Private Room’). This seems reasonable, since on average, ‘availaibility_365’ was higher for ‘Private Rooms’ over ‘Entire/Home apt’. \n",
    "Additional continuous features associated with z-score value increases resulting in predictions towards the positive class include ‘cnt_private_room’, ‘avgprice_private_room’, ‘days_since_last_review’, ‘avgprice_entire_home’, ‘calculated_host_listings_count’, ‘dist_subway’, ‘cnt_shared_room’, and ‘latitude’. These features are listed based on their ranking in terms of importance. \n",
    "\n",
    "For each one unit increase in the z-score for ‘cnt_private_room’, the likelihood of predicting the positive class increases by 70%. This feature indicates the number of private room units within the closest 1 million square feet of the rental unit. This is another obvious association considering the likelihood that private room units cluster together. \n",
    "\n",
    "For each one unit increase in the z-score of ‘avgprice_private_room’, the likelihood of predicting the positive class increases by 45%. We can assume higher average prices of the surrounding units correlate with a greater occurrence of private room rentals. \n",
    "\n",
    "For each one unit increase in the z-score of ‘days_since_last_review’, the likelihood of predicting the positive class increases by 32%. We can assume that not as many reviews are given by renters of private rooms since renters are more likely to interact with the owners and may not be as comfortable with sharing personal information on the experience. \n",
    "\n",
    "For each one unit increase in the z-score of ‘avgprice_entire_home’, the likelihood of predicting the positive class increases by 19%. We can assume that higher home prices are associated with a lack of supply of entire homes for rent, and therefore, more likely to be associated with private rooms. \n",
    "\n",
    "For each one unit increase in the z-score of ‘calculated_host_listings_count’, the likelihood of predicting the positive class increases by 9%. One possible reason could be that hosts are renting out multiple private rooms in a single dwelling unit. \n",
    "\n",
    "For each one unit increase in the z-score of ‘dist_subway’, the likelihood of predicting the positive class increases by 8%. This seems likely given subways are probably located in more densely populated areas which would be more likely to be associated with private rooms rather than entire homes for rent. \n",
    "\n",
    "For each one unit increase in the z-score of ‘cnt_shared_room’, the likelihood of predicting the positive class increases by 6%. This feature indicates the number of shared rooms for rent in close proximity. This association is obvious since we can assume shared rooms cluster geographically with private rooms. Finally, for each one unit increase in the z-score of ‘latitude’, the likelihood of predicting the positive class increases by under 1%.\n",
    "\n",
    "#### Categorical:\n",
    "For categorical variables, the most predictive feature was 'Staten Island' with an 87% increase in odds for the negative class (‘Entire Home/Apt’). This is also somewhat intuitive considering the class balance between ‘Private Room’ and ‘Entire Home/Apt’ had the least imbalance in Staten Island vs. the other boroughs. Following ‘Staten Island’, the categorical features in order of importance with values increasing odds toward the negative class are ‘Brooklyn’ (33%) and ‘Queens’ (17%). Features associated with increasing odds toward the positive class (‘Private Room’) include ‘Manhattan’ (26%) and ‘Bronx’ (14%).\n"
   ]
  },
  {
   "cell_type": "code",
   "execution_count": null,
   "metadata": {
    "scrolled": true
   },
   "outputs": [
    {
     "data": {
      "image/png": "[encoded data removed]",
      "text/plain": [
       "<Figure size 432x288 with 1 Axes>"
      ]
     },
     "metadata": {
      "needs_background": "light"
     },
     "output_type": "display_data"
    },
    {
     "data": {
      "image/png": "[encoded data removed]",
      "text/plain": [
       "<Figure size 432x288 with 2 Axes>"
      ]
     },
     "metadata": {
      "needs_background": "light"
     },
     "output_type": "display_data"
    },
    {
     "data": {
      "image/png": "[encoded data removed]",
      "text/plain": [
       "<Figure size 432x288 with 1 Axes>"
      ]
     },
     "metadata": {
      "needs_background": "light"
     },
     "output_type": "display_data"
    },
    {
     "data": {
      "image/png": "[encoded data removed]",
      "text/plain": [
       "<Figure size 432x288 with 1 Axes>"
      ]
     },
     "metadata": {
      "needs_background": "light"
     },
     "output_type": "display_data"
    }
   ],
   "source": [
    "rf_classifier = RandomForestClassifier(\n",
    "    #max_depth=None,\n",
    "    random_state=0,\n",
    "    #bootstrap=True,\n",
    "    #oob_score=True,\n",
    "    #max_samples = 50,\n",
    "    criterion='gini',\n",
    "    n_estimators=200)\n",
    "rf_classifier.fit(X_train, y_train.values.ravel())\n",
    "cutoffs_rf, scores_rf = analyze_classifier(rf_classifier, X_train, X_test,\n",
    "                                           y_train, y_test)\n",
    "predict_rf = rf_classifier.predict(X_test)\n",
    "prob_rf = rf_classifier.predict_proba(X_test)\n",
    "acc_rf = round(accuracy_score(y_test, predict_rf), 5)\n",
    "print(f'RF Accuracy {acc_rf}')"
   ]
  },
  {
   "cell_type": "code",
   "execution_count": null,
   "metadata": {},
   "outputs": [],
   "source": [
    "importances = rf_classifier.feature_importances_\n",
    "std = np.std([tree.feature_importances_ for tree in rf_classifier.estimators_],\n",
    "             axis=0)\n",
    "indices = np.argsort(importances)[::-1]\n",
    "\n",
    "# Print the feature ranking\n",
    "print(\"Feature ranking:\")\n",
    "\n",
    "for f in range(X_train.shape[1]):\n",
    "    print(f'{f+1}:{X_train.columns[f]} {importances[indices[f]]:.5f}')\n",
    "\n",
    "# Plot the feature importances of the forest\n",
    "plt.figure()\n",
    "plt.title(\"Feature importances\")\n",
    "plt.bar(range(X_train.shape[1]),\n",
    "        importances[indices],\n",
    "        color=\"r\",\n",
    "        yerr=std[indices],\n",
    "        align=\"center\")\n",
    "plt.xticks(range(X_train.shape[1]), indices)\n",
    "plt.xlim([-1, X_train.shape[1]])\n",
    "plt.show()"
   ]
  },
  {
   "cell_type": "markdown",
   "metadata": {},
   "source": [
    "<a id=\"InterpretSupportVectors\"></a>\n",
    "# Interpret Support Vectors"
   ]
  },
  {
   "cell_type": "markdown",
   "metadata": {},
   "source": [
    "[10] Look at the chosen support vectors for the classification task. Do these provide any insight into the data? Explain. If you used stochastic gradient descent (and therefore did not explicitly solve for support vectors), try subsampling your data to train the SVC model— then analyze the support vectors from the subsampled dataset."
   ]
  },
  {
   "cell_type": "code",
   "execution_count": 126,
   "metadata": {},
   "outputs": [
    {
     "name": "stdout",
     "output_type": "stream",
     "text": [
      "(10975, 23)\n",
      "(10975,)\n",
      "[5485 5490]\n"
     ]
    }
   ],
   "source": [
    "print(best_svm.support_vectors_.shape)\n",
    "print(best_svm.support_.shape)\n",
    "print(best_svm.n_support_ )"
   ]
  },
  {
   "cell_type": "code",
   "execution_count": 151,
   "metadata": {},
   "outputs": [
    {
     "name": "stdout",
     "output_type": "stream",
     "text": [
      "<class 'pandas.core.frame.DataFrame'>\n",
      "Int64Index: 10975 entries, 4071 to 3433\n",
      "Data columns (total 24 columns):\n",
      " #   Column                             Non-Null Count  Dtype  \n",
      "---  ------                             --------------  -----  \n",
      " 0   latitude                           10975 non-null  float64\n",
      " 1   longitude                          10975 non-null  float64\n",
      " 2   price                              10975 non-null  float64\n",
      " 3   minimum_nights                     10975 non-null  float64\n",
      " 4   number_of_reviews                  10975 non-null  float64\n",
      " 5   reviews_per_month                  10975 non-null  float64\n",
      " 6   calculated_host_listings_count     10975 non-null  float64\n",
      " 7   availability_365                   10975 non-null  float64\n",
      " 8   dist_subway                        10975 non-null  float64\n",
      " 9   cnt_all                            10975 non-null  float64\n",
      " 10  cnt_entire_home                    10975 non-null  float64\n",
      " 11  cnt_private_room                   10975 non-null  float64\n",
      " 12  cnt_shared_room                    10975 non-null  float64\n",
      " 13  avgprice_all                       10975 non-null  float64\n",
      " 14  avgprice_entire_home               10975 non-null  float64\n",
      " 15  avgprice_private_room              10975 non-null  float64\n",
      " 16  avgprice_shared_room               10975 non-null  float64\n",
      " 17  days_since_last_review             10975 non-null  float64\n",
      " 18  neighbourhood_group_Bronx          10975 non-null  uint8  \n",
      " 19  neighbourhood_group_Brooklyn       10975 non-null  uint8  \n",
      " 20  neighbourhood_group_Manhattan      10975 non-null  uint8  \n",
      " 21  neighbourhood_group_Queens         10975 non-null  uint8  \n",
      " 22  neighbourhood_group_Staten Island  10975 non-null  uint8  \n",
      " 23  Response                           10975 non-null  int64  \n",
      "dtypes: float64(18), int64(1), uint8(5)\n",
      "memory usage: 1.7 MB\n",
      "<class 'pandas.core.frame.DataFrame'>\n",
      "Int64Index: 39156 entries, 27805 to 46492\n",
      "Data columns (total 24 columns):\n",
      " #   Column                             Non-Null Count  Dtype  \n",
      "---  ------                             --------------  -----  \n",
      " 0   latitude                           39156 non-null  float64\n",
      " 1   longitude                          39156 non-null  float64\n",
      " 2   price                              39156 non-null  float64\n",
      " 3   minimum_nights                     39156 non-null  float64\n",
      " 4   number_of_reviews                  39156 non-null  float64\n",
      " 5   reviews_per_month                  39156 non-null  float64\n",
      " 6   calculated_host_listings_count     39156 non-null  float64\n",
      " 7   availability_365                   39156 non-null  float64\n",
      " 8   dist_subway                        39156 non-null  float64\n",
      " 9   cnt_all                            39156 non-null  float64\n",
      " 10  cnt_entire_home                    39156 non-null  float64\n",
      " 11  cnt_private_room                   39156 non-null  float64\n",
      " 12  cnt_shared_room                    39156 non-null  float64\n",
      " 13  avgprice_all                       39156 non-null  float64\n",
      " 14  avgprice_entire_home               39156 non-null  float64\n",
      " 15  avgprice_private_room              39156 non-null  float64\n",
      " 16  avgprice_shared_room               39156 non-null  float64\n",
      " 17  days_since_last_review             39156 non-null  float64\n",
      " 18  neighbourhood_group_Bronx          39156 non-null  uint8  \n",
      " 19  neighbourhood_group_Brooklyn       39156 non-null  uint8  \n",
      " 20  neighbourhood_group_Manhattan      39156 non-null  uint8  \n",
      " 21  neighbourhood_group_Queens         39156 non-null  uint8  \n",
      " 22  neighbourhood_group_Staten Island  39156 non-null  uint8  \n",
      " 23  Response                           10975 non-null  float64\n",
      "dtypes: float64(19), uint8(5)\n",
      "memory usage: 6.2 MB\n"
     ]
    }
   ],
   "source": [
    "# Code adapted from https://github.com/jakemdrew/DataMiningNotebooks/blob/master/04.%20Logits%20and%20SVM.ipynb\n",
    "df_tested_on = X_train.copy() # saved from above, the indices chosen for training\n",
    "# now get the support vectors from the trained model\n",
    "df_support = df_tested_on.iloc[best_svm.support_,:].copy()\n",
    "\n",
    "resp = y_train['Response']\n",
    "df_support['Response'] = resp.iloc[best_svm.support_] # add back in the 'Response' Column to the pandas dataframe\n",
    "orig_data = pd.concat([X_train, X_test])\n",
    "orig_data['Response'] = resp.iloc[best_svm.support_] # also add it back in for the original data\n",
    "df_support.info()\n",
    "orig_data.info()"
   ]
  },
  {
   "cell_type": "code",
   "execution_count": 152,
   "metadata": {
    "scrolled": false
   },
   "outputs": [
    {
     "data": {
      "image/png": "[encoded data removed]",
      "text/plain": [
       "<Figure size 720x288 with 2 Axes>"
      ]
     },
     "metadata": {
      "needs_background": "light"
     },
     "output_type": "display_data"
    },
    {
     "data": {
      "image/png": "[encoded data removed]",
      "text/plain": [
       "<Figure size 720x288 with 2 Axes>"
      ]
     },
     "metadata": {
      "needs_background": "light"
     },
     "output_type": "display_data"
    },
    {
     "data": {
      "image/png": "[encoded data removed]",
      "text/plain": [
       "<Figure size 720x288 with 2 Axes>"
      ]
     },
     "metadata": {
      "needs_background": "light"
     },
     "output_type": "display_data"
    },
    {
     "data": {
      "image/png": "[encoded data removed]",
      "text/plain": [
       "<Figure size 720x288 with 2 Axes>"
      ]
     },
     "metadata": {
      "needs_background": "light"
     },
     "output_type": "display_data"
    },
    {
     "data": {
      "image/png": "[encoded data removed]",
      "text/plain": [
       "<Figure size 720x288 with 2 Axes>"
      ]
     },
     "metadata": {
      "needs_background": "light"
     },
     "output_type": "display_data"
    }
   ],
   "source": [
    "# Code adapted from https://github.com/jakemdrew/DataMiningNotebooks/blob/master/04.%20Logits%20and%20SVM.ipynb\n",
    "# now lets see the statistics of these attributes\n",
    "from pandas.plotting import boxplot\n",
    "\n",
    "# group the original data and the support vectors\n",
    "df_grouped_support = df_support.groupby(['Response'])\n",
    "df_grouped = orig_data.groupby(['Response'])\n",
    "\n",
    "# plot KDE of Different variables\n",
    "vars_to_plot = ['price','availability_365','neighbourhood_group_Staten Island','cnt_private_room','neighbourhood_group_Brooklyn']\n",
    "\n",
    "for v in vars_to_plot:\n",
    "    plt.figure(figsize=(10,4))\n",
    "    # plot support vector stats\n",
    "    plt.subplot(1,2,1)\n",
    "    ax = df_grouped_support[v].plot.kde() \n",
    "    plt.legend(['Entire Home/Apt','Private Room'])\n",
    "    plt.title(v+' (Instances chosen as Support Vectors)')\n",
    "    \n",
    "    # plot original distributions\n",
    "    plt.subplot(1,2,2)\n",
    "    ax = df_grouped[v].plot.kde() \n",
    "    plt.legend(['Entire Home/Apt','Private Room'])\n",
    "    plt.title(v+' (Original)')\n",
    "    "
   ]
  },
  {
   "cell_type": "markdown",
   "metadata": {},
   "source": [
    "Here we are comparing the densities of important variables between the support vectors and the overall data. Normally we would hope to see differences between the two, but here the kernel densities of the support vectors and the original data are very close to identical. It is hard to distinguish why these support vectors were chosen. Below, we will look at some other plots of these variables to try to detect a difference."
   ]
  },
  {
   "cell_type": "code",
   "execution_count": null,
   "metadata": {},
   "outputs": [],
   "source": []
  },
  {
   "cell_type": "code",
   "execution_count": null,
   "metadata": {},
   "outputs": [],
   "source": []
  },
  {
   "cell_type": "code",
   "execution_count": 153,
   "metadata": {
    "scrolled": false
   },
   "outputs": [
    {
     "data": {
      "text/plain": [
       "[Text(0.5, 1.0, 'Original Data')]"
      ]
     },
     "execution_count": 153,
     "metadata": {},
     "output_type": "execute_result"
    },
    {
     "data": {
      "image/png": "[encoded data removed]",
      "text/plain": [
       "<Figure size 432x288 with 2 Axes>"
      ]
     },
     "metadata": {
      "needs_background": "light"
     },
     "output_type": "display_data"
    }
   ],
   "source": [
    "fig, axs = plt.subplots(ncols=2)\n",
    "sns.boxplot(x=\"Response\", y=\"price\", data=df_support,ax=axs[0]).set(title='Support')\n",
    "sns.boxplot(x=\"Response\", y=\"price\", data=orig_data,ax=axs[1]).set(title='Original Data')"
   ]
  },
  {
   "cell_type": "markdown",
   "metadata": {},
   "source": [
    "Again, for the price variable we can hardly detect a difference in the support vector distribution and the original data distribution."
   ]
  },
  {
   "cell_type": "code",
   "execution_count": 155,
   "metadata": {},
   "outputs": [
    {
     "data": {
      "text/plain": [
       "[Text(0.5, 1.0, 'Original Data')]"
      ]
     },
     "execution_count": 155,
     "metadata": {},
     "output_type": "execute_result"
    },
    {
     "data": {
      "image/png": "[encoded data removed]",
      "text/plain": [
       "<Figure size 432x288 with 2 Axes>"
      ]
     },
     "metadata": {
      "needs_background": "light"
     },
     "output_type": "display_data"
    }
   ],
   "source": [
    "fig, axs = plt.subplots(ncols=2)\n",
    "sns.boxplot(x=\"Response\", y=\"availability_365\", data=df_support,ax=axs[0]).set(title='Support')\n",
    "sns.boxplot(x=\"Response\", y=\"availability_365\", data=orig_data,ax=axs[1]).set(title='Original Data')"
   ]
  },
  {
   "cell_type": "markdown",
   "metadata": {},
   "source": [
    "The result is the same for the availability_365 variable. We can hardly detect a difference in the support vector distribution and the original data distribution. Our hypothesis is that over 10K support vectors were chosen out of just under 40K observations, so we would expect a representative sample. Perhaps this is too many observations to notice the differences?"
   ]
  },
  {
   "cell_type": "markdown",
   "metadata": {},
   "source": [
    "<a id=\"Conclusion\"></a>\n",
    "# Conclusion"
   ]
  },
  {
   "cell_type": "code",
   "execution_count": 27,
   "metadata": {},
   "outputs": [],
   "source": [
    "#\n",
    "#\n",
    "#\n",
    "#\n",
    "#\n",
    "#\n",
    "#\n",
    "#\n",
    "#\n",
    "#\n",
    "#\n",
    "#\n",
    "#\n",
    "#\n",
    "#\n",
    "#"
   ]
  }
 ],
 "metadata": {
  "kernelspec": {
   "display_name": "Python 3",
   "language": "python",
   "name": "python3"
  },
  "language_info": {
   "codemirror_mode": {
    "name": "ipython",
    "version": 3
   },
   "file_extension": ".py",
   "mimetype": "text/x-python",
   "name": "python",
   "nbconvert_exporter": "python",
   "pygments_lexer": "ipython3",
   "version": "3.7.1"
  }
 },
 "nbformat": 4,
 "nbformat_minor": 2
}
